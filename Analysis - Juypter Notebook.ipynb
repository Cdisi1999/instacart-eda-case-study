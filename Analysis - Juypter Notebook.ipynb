{
 "cells": [
  {
   "cell_type": "markdown",
   "id": "e069acd0",
   "metadata": {},
   "source": [
    "<div style=\"border:solid green 2px; padding: 20px\"> <h1 style=\"color:green; margin-bottom:20px\">Reviewer's comment v1</h1>\n",
    "\n",
    "Hello Christian!\n",
    "\n",
    "I'm happy to review your project today 🙌\n",
    "\n",
    "You can find my comments under the heading **«Review»**. I will categorize my comments in green, blue or red boxes like this:\n",
    "\n",
    "<div class=\"alert alert-success\">\n",
    "    <b>Success:</b> if everything is done successfully\n",
    "</div>\n",
    "<div class=\"alert alert-warning\">\n",
    "    <b>Remarks:</b> if I can give some recommendations or ways to improve the project\n",
    "</div>\n",
    "<div class=\"alert alert-danger\">\n",
    "    <b>Needs fixing:</b> if the block requires some corrections. Work can't be accepted with the red comments\n",
    "</div>\n",
    "\n",
    "Please don't remove my comments :) If you have any questions don't hesitate to respond to my comments in a different section. \n",
    "<div class=\"alert alert-info\"> <b>Student comments:</b> For example like this</div>    \n"
   ]
  },
  {
   "cell_type": "markdown",
   "id": "72a0a184",
   "metadata": {},
   "source": [
    "<div style=\"border:solid green 2px; padding: 20px\">\n",
    "<b>Reviewer's comment v1:</b>\n",
    "\n",
    "    \n",
    "<b>Overall Feedback</b>\n",
    "    \n",
    "Hello Christian,\n",
    "    \n",
    "Another project successfully completed - well done! 🏆 Your consistent effort and progress are truly commendable.\n",
    "\n",
    "Our team is here to help you keep pushing forward and honing your skills as you advance through the program.\n",
    "      \n",
    "You can find my more detailed notes within your project notebook in the `Reviewer's comment v1:` section.\n",
    "   \n",
    "Congratulations again on your accomplishment! Each project you complete adds to your growing expertise, and it’s exciting to see you make such great strides. Keep up the great work! 🎯"
   ]
  },
  {
   "cell_type": "markdown",
   "id": "b99bbf6e",
   "metadata": {},
   "source": [
    "<div class=\"alert alert-block alert-warning\">\n",
    "<b>Reviewer's comment v1</b>\n",
    "    \n",
    "It would be immensely helpful if you can add some contextual information at the beginning of the notebook, covering:\n",
    "\n",
    "- A brief description of the project's objective.\n",
    "- An overview of the data you're working with.\n",
    "- Any expected outcomes or results you aim to achieve.\n",
    "\n",
    "Providing such context allows anyone reviewing or revisiting the notebook to quickly understand its purpose and the data being used, ensuring smoother collaboration and more intuitive navigation.\n",
    "\n",
    "</div>"
   ]
  },
  {
   "cell_type": "code",
   "execution_count": 1,
   "id": "fbf1adab",
   "metadata": {},
   "outputs": [],
   "source": [
    "import pandas as pd"
   ]
  },
  {
   "cell_type": "code",
   "execution_count": 2,
   "id": "ad36396d",
   "metadata": {},
   "outputs": [],
   "source": [
    "import numpy as np"
   ]
  },
  {
   "cell_type": "code",
   "execution_count": 3,
   "id": "ad6a1efa",
   "metadata": {},
   "outputs": [
    {
     "name": "stdout",
     "output_type": "stream",
     "text": [
      "   order_id  user_id  order_number  order_dow  order_hour_of_day  \\\n",
      "0   1515936   183418            11          6                 13   \n",
      "1   1690866   163593             5          5                 12   \n",
      "2   1454967    39980             4          5                 19   \n",
      "3   1768857    82516            56          0                 20   \n",
      "4   3007858   196724             2          4                 12   \n",
      "\n",
      "   days_since_prior_order  \n",
      "0                    30.0  \n",
      "1                     9.0  \n",
      "2                     2.0  \n",
      "3                    10.0  \n",
      "4                    17.0  \n",
      "\n",
      "<class 'pandas.core.frame.DataFrame'>\n",
      "RangeIndex: 478967 entries, 0 to 478966\n",
      "Data columns (total 6 columns):\n",
      " #   Column                  Non-Null Count   Dtype  \n",
      "---  ------                  --------------   -----  \n",
      " 0   order_id                478967 non-null  int64  \n",
      " 1   user_id                 478967 non-null  int64  \n",
      " 2   order_number            478967 non-null  int64  \n",
      " 3   order_dow               478967 non-null  int64  \n",
      " 4   order_hour_of_day       478967 non-null  int64  \n",
      " 5   days_since_prior_order  450148 non-null  float64\n",
      "dtypes: float64(1), int64(5)\n",
      "memory usage: 21.9 MB\n"
     ]
    }
   ],
   "source": [
    "orders = pd.read_csv('/datasets/instacart_orders.csv', sep = ';')\n",
    "print(orders.head())  #test dataframe\n",
    "print()\n",
    "orders.info()  #collect information about dataset"
   ]
  },
  {
   "cell_type": "code",
   "execution_count": 4,
   "id": "5130e05e",
   "metadata": {},
   "outputs": [
    {
     "name": "stdout",
     "output_type": "stream",
     "text": [
      "   product_id                                       product_name  aisle_id  \\\n",
      "0           1                         Chocolate Sandwich Cookies        61   \n",
      "1           2                                   All-Seasons Salt       104   \n",
      "2           3               Robust Golden Unsweetened Oolong Tea        94   \n",
      "3           4  Smart Ones Classic Favorites Mini Rigatoni Wit...        38   \n",
      "4           5                          Green Chile Anytime Sauce         5   \n",
      "\n",
      "   department_id  \n",
      "0             19  \n",
      "1             13  \n",
      "2              7  \n",
      "3              1  \n",
      "4             13  \n",
      "\n",
      "<class 'pandas.core.frame.DataFrame'>\n",
      "RangeIndex: 49694 entries, 0 to 49693\n",
      "Data columns (total 4 columns):\n",
      " #   Column         Non-Null Count  Dtype \n",
      "---  ------         --------------  ----- \n",
      " 0   product_id     49694 non-null  int64 \n",
      " 1   product_name   48436 non-null  object\n",
      " 2   aisle_id       49694 non-null  int64 \n",
      " 3   department_id  49694 non-null  int64 \n",
      "dtypes: int64(3), object(1)\n",
      "memory usage: 1.5+ MB\n"
     ]
    }
   ],
   "source": [
    "products = pd.read_csv('/datasets/products.csv', sep = ';')\n",
    "print(products.head())\n",
    "print()\n",
    "products.info()"
   ]
  },
  {
   "cell_type": "code",
   "execution_count": 5,
   "id": "d8370c05",
   "metadata": {},
   "outputs": [
    {
     "name": "stdout",
     "output_type": "stream",
     "text": [
      "   department_id department\n",
      "0              1     frozen\n",
      "1              2      other\n",
      "2              3     bakery\n",
      "3              4    produce\n",
      "4              5    alcohol\n",
      "\n",
      "<class 'pandas.core.frame.DataFrame'>\n",
      "RangeIndex: 21 entries, 0 to 20\n",
      "Data columns (total 2 columns):\n",
      " #   Column         Non-Null Count  Dtype \n",
      "---  ------         --------------  ----- \n",
      " 0   department_id  21 non-null     int64 \n",
      " 1   department     21 non-null     object\n",
      "dtypes: int64(1), object(1)\n",
      "memory usage: 464.0+ bytes\n"
     ]
    }
   ],
   "source": [
    "departments = pd.read_csv('/datasets/departments.csv', sep = ';')\n",
    "print(departments.head())\n",
    "print()\n",
    "departments.info()"
   ]
  },
  {
   "cell_type": "code",
   "execution_count": 6,
   "id": "59e2090f",
   "metadata": {},
   "outputs": [
    {
     "name": "stdout",
     "output_type": "stream",
     "text": [
      "   aisle_id                       aisle\n",
      "0         1       prepared soups salads\n",
      "1         2           specialty cheeses\n",
      "2         3         energy granola bars\n",
      "3         4               instant foods\n",
      "4         5  marinades meat preparation\n",
      "\n",
      "<class 'pandas.core.frame.DataFrame'>\n",
      "RangeIndex: 134 entries, 0 to 133\n",
      "Data columns (total 2 columns):\n",
      " #   Column    Non-Null Count  Dtype \n",
      "---  ------    --------------  ----- \n",
      " 0   aisle_id  134 non-null    int64 \n",
      " 1   aisle     134 non-null    object\n",
      "dtypes: int64(1), object(1)\n",
      "memory usage: 2.2+ KB\n"
     ]
    }
   ],
   "source": [
    "aisles = pd.read_csv('/datasets/aisles.csv', sep = ';')\n",
    "\n",
    "print(aisles.head())\n",
    "print()\n",
    "aisles.info()"
   ]
  },
  {
   "cell_type": "code",
   "execution_count": 7,
   "id": "6fc81694",
   "metadata": {},
   "outputs": [
    {
     "name": "stdout",
     "output_type": "stream",
     "text": [
      "   order_id  product_id  add_to_cart_order  reordered\n",
      "0   2141543       11440               17.0          0\n",
      "1    567889        1560                1.0          1\n",
      "2   2261212       26683                1.0          1\n",
      "3    491251        8670               35.0          1\n",
      "4   2571142        1940                5.0          1\n",
      "\n",
      "<class 'pandas.core.frame.DataFrame'>\n",
      "RangeIndex: 4545007 entries, 0 to 4545006\n",
      "Data columns (total 4 columns):\n",
      " #   Column             Non-Null Count    Dtype  \n",
      "---  ------             --------------    -----  \n",
      " 0   order_id           4545007 non-null  int64  \n",
      " 1   product_id         4545007 non-null  int64  \n",
      " 2   add_to_cart_order  4544171 non-null  float64\n",
      " 3   reordered          4545007 non-null  int64  \n",
      "dtypes: float64(1), int64(3)\n",
      "memory usage: 138.7 MB\n"
     ]
    }
   ],
   "source": [
    "order_products = pd.read_csv('/datasets/order_products.csv', sep = ';')\n",
    "\n",
    "print(order_products.head()) #test dataframe\n",
    "print()\n",
    "order_products.info(show_counts=True)"
   ]
  },
  {
   "cell_type": "markdown",
   "id": "07357848-dc64-4156-9cc3-01ff4365226d",
   "metadata": {},
   "source": [
    "## Find and remove duplicate values (and describe why you make your choices)"
   ]
  },
  {
   "cell_type": "markdown",
   "id": "f179f0a9",
   "metadata": {},
   "source": [
    "### `orders` data frame"
   ]
  },
  {
   "cell_type": "code",
   "execution_count": 8,
   "id": "b99297a5-405a-463d-8535-9adc3da4ad74",
   "metadata": {},
   "outputs": [
    {
     "name": "stdout",
     "output_type": "stream",
     "text": [
      "Number of Duplicated Rows: 15\n"
     ]
    }
   ],
   "source": [
    "# Check for duplicated orders\n",
    "duplicated_rows = orders.duplicated().sum()\n",
    "\n",
    "print(f\"Number of Duplicated Rows: {duplicated_rows}\")"
   ]
  },
  {
   "cell_type": "code",
   "execution_count": 9,
   "id": "0d44de5d",
   "metadata": {},
   "outputs": [
    {
     "name": "stdout",
     "output_type": "stream",
     "text": [
      "order_id                  121\n",
      "user_id                   121\n",
      "order_number              121\n",
      "order_dow                 121\n",
      "order_hour_of_day         121\n",
      "days_since_prior_order    114\n",
      "dtype: int64\n"
     ]
    }
   ],
   "source": [
    "# Check for all orders placed Wednesday at 2:00 AM\n",
    "Wed_2_Orders = orders.query(\"order_dow == 3 and order_hour_of_day == 2\")\n",
    "print(Wed_2_Orders.count())"
   ]
  },
  {
   "cell_type": "markdown",
   "id": "caa92ccd",
   "metadata": {},
   "source": [
    "  The days_since_prior_order column has some missing values. The reason for this is because some orders were probably from first time buyers\n",
    " \n",
    " "
   ]
  },
  {
   "cell_type": "code",
   "execution_count": 10,
   "id": "480563c7",
   "metadata": {},
   "outputs": [],
   "source": [
    "# Remove duplicate orders\n",
    "orders = orders.drop_duplicates()"
   ]
  },
  {
   "cell_type": "markdown",
   "id": "07512ac4",
   "metadata": {},
   "source": [
    "<div class=\"alert alert-block alert-warning\">\n",
    "<b>Reviewer's comment v1</b>\n",
    "\n",
    "This code removes the duplicate rows from the DataFrame.\n",
    "However it doesn't reset the index of the DataFrame. This means that if rows were removed, there could be gaps in the DataFrame's index.\n",
    "\n",
    "In many cases, especially when the index doesn't have any specific meaning, resetting the index after dropping duplicates provides a cleaner result. You can achieve that in the following way: \n",
    "\n",
    "`orders.drop_duplicates().reset_index(drop=True)`\n",
    "\n",
    "The `reset_index(drop=True)` method is then called on the result, which resets the DataFrame's index and drops the old index. This ensures there are no gaps in the index after removing duplicates.\n",
    "    "
   ]
  },
  {
   "cell_type": "code",
   "execution_count": 11,
   "id": "0b2396a2",
   "metadata": {},
   "outputs": [
    {
     "name": "stdout",
     "output_type": "stream",
     "text": [
      "0\n"
     ]
    }
   ],
   "source": [
    "# Double check for duplicate rows\n",
    "print(orders.duplicated().sum())"
   ]
  },
  {
   "cell_type": "markdown",
   "id": "d910a4c4",
   "metadata": {},
   "source": [
    "Great, we have gotten rid of all duplicates!"
   ]
  },
  {
   "cell_type": "code",
   "execution_count": 12,
   "id": "f6113ef1",
   "metadata": {},
   "outputs": [
    {
     "name": "stdout",
     "output_type": "stream",
     "text": [
      "0\n"
     ]
    }
   ],
   "source": [
    "# Double check for duplicate order IDs only\n",
    "print(orders['order_id'].duplicated().sum())"
   ]
  },
  {
   "cell_type": "markdown",
   "id": "5e8905ae",
   "metadata": {},
   "source": []
  },
  {
   "cell_type": "markdown",
   "id": "45e6bc46",
   "metadata": {},
   "source": [
    "### `products` data frame"
   ]
  },
  {
   "cell_type": "code",
   "execution_count": 13,
   "id": "5f526b5b-8175-46fa-a0fd-441767d50e64",
   "metadata": {},
   "outputs": [
    {
     "name": "stdout",
     "output_type": "stream",
     "text": [
      "0\n"
     ]
    }
   ],
   "source": [
    "# Check for fully duplicate rows\n",
    "duplicate_rows = products.duplicated().sum()\n",
    "\n",
    "print(duplicate_rows)"
   ]
  },
  {
   "cell_type": "code",
   "execution_count": 14,
   "id": "88daa4f4",
   "metadata": {},
   "outputs": [
    {
     "name": "stdout",
     "output_type": "stream",
     "text": [
      "0\n"
     ]
    }
   ],
   "source": [
    "# Check for just duplicate product IDs\n",
    "duplicate_productid = products['product_id'].duplicated().sum()\n",
    "\n",
    "print(duplicate_productid)"
   ]
  },
  {
   "cell_type": "code",
   "execution_count": 15,
   "id": "c773f0bf",
   "metadata": {},
   "outputs": [
    {
     "name": "stdout",
     "output_type": "stream",
     "text": [
      "1361\n"
     ]
    }
   ],
   "source": [
    "# Check for just duplicate product names (convert names to lowercase to compare better)\n",
    "products['product_name'] = products['product_name'].str.lower()\n",
    "\n",
    "duplicate_prodname = products['product_name'].duplicated().sum()\n",
    "\n",
    "print(duplicate_prodname)"
   ]
  },
  {
   "cell_type": "code",
   "execution_count": 16,
   "id": "01efd02e",
   "metadata": {},
   "outputs": [
    {
     "name": "stdout",
     "output_type": "stream",
     "text": [
      "104\n"
     ]
    }
   ],
   "source": [
    "# Check for duplicate product names that aren't missing\n",
    "duplicate_non_missing_count = products['product_name'].notna() & products['product_name'].duplicated()\n",
    "count = duplicate_non_missing_count.sum()\n",
    "\n",
    "print(count)"
   ]
  },
  {
   "cell_type": "markdown",
   "id": "9da8d293",
   "metadata": {},
   "source": []
  },
  {
   "cell_type": "markdown",
   "id": "60f30db1",
   "metadata": {},
   "source": [
    "### `departments` data frame"
   ]
  },
  {
   "cell_type": "code",
   "execution_count": 17,
   "id": "fb410ad4-0fbf-4b80-bb09-23fdea79afe3",
   "metadata": {},
   "outputs": [
    {
     "name": "stdout",
     "output_type": "stream",
     "text": [
      "0\n"
     ]
    }
   ],
   "source": [
    "dup_depart = departments.duplicated().sum()\n",
    "\n",
    "print(dup_depart)"
   ]
  },
  {
   "cell_type": "markdown",
   "id": "152f0ba7",
   "metadata": {},
   "source": [
    "No duplicates"
   ]
  },
  {
   "cell_type": "markdown",
   "id": "bd30d78e",
   "metadata": {},
   "source": []
  },
  {
   "cell_type": "markdown",
   "id": "889349c1",
   "metadata": {},
   "source": [
    "### `aisles` data frame"
   ]
  },
  {
   "cell_type": "code",
   "execution_count": 18,
   "id": "9da89fb9-4679-40f5-ad0d-c34df753a3f8",
   "metadata": {},
   "outputs": [
    {
     "name": "stdout",
     "output_type": "stream",
     "text": [
      "0\n"
     ]
    }
   ],
   "source": [
    "dup_aisles = aisles.duplicated().sum()\n",
    "print(dup_aisles)"
   ]
  },
  {
   "cell_type": "markdown",
   "id": "3eb103e7",
   "metadata": {},
   "source": [
    "No duplicates"
   ]
  },
  {
   "cell_type": "markdown",
   "id": "ac63826f",
   "metadata": {},
   "source": []
  },
  {
   "cell_type": "markdown",
   "id": "274cd06a",
   "metadata": {},
   "source": [
    "### `order_products` data frame"
   ]
  },
  {
   "cell_type": "code",
   "execution_count": 19,
   "id": "52326689-84a8-4b8f-a881-7c68780f62c9",
   "metadata": {},
   "outputs": [
    {
     "name": "stdout",
     "output_type": "stream",
     "text": [
      "0\n"
     ]
    }
   ],
   "source": [
    "# Check for fully duplicate rows\n",
    "dup_ord_prod = order_products.duplicated().sum()\n",
    "print(dup_ord_prod)"
   ]
  },
  {
   "cell_type": "code",
   "execution_count": 20,
   "id": "7b861391",
   "metadata": {},
   "outputs": [
    {
     "name": "stdout",
     "output_type": "stream",
     "text": [
      "0\n",
      "766\n",
      "4094961\n",
      "0\n"
     ]
    }
   ],
   "source": [
    "# Double check for any other tricky duplicates\n",
    "dup_combination = order_products.duplicated(subset = ['order_id', 'product_id']).sum()\n",
    "print(dup_combination)\n",
    "dup_add_to_cart = order_products.duplicated(subset=['order_id', 'add_to_cart_order']).sum()\n",
    "print(dup_add_to_cart)\n",
    "dup_order_id = order_products.duplicated(subset = 'order_id').sum()\n",
    "print(dup_order_id)\n",
    "dup_combination_2 = order_products.duplicated(subset = ['order_id', 'product_id', 'add_to_cart_order']).sum()\n",
    "print(dup_combination_2)"
   ]
  },
  {
   "cell_type": "markdown",
   "id": "73f1ee74",
   "metadata": {},
   "source": [
    "1. Checked to see if there are duplicates of order id and product id amongst the data\n",
    "2 and 3. Checked to see if there are duplicates for the add_to_cart_order amongst the same order_ids\n",
    "4. If there are duplicates of all 3 of these categories, then there would be an issue. "
   ]
  },
  {
   "cell_type": "markdown",
   "id": "0b890492",
   "metadata": {},
   "source": [
    "<div class=\"alert alert-block alert-success\">\n",
    "<b>Reviewer's comment v1</b>\n",
    "\n",
    "You've done a good job at checking duplicates in the table."
   ]
  },
  {
   "cell_type": "markdown",
   "id": "1e46de76",
   "metadata": {},
   "source": [
    "## Find and remove missing values\n"
   ]
  },
  {
   "cell_type": "markdown",
   "id": "c0aebd78",
   "metadata": {},
   "source": [
    "### `products` data frame"
   ]
  },
  {
   "cell_type": "code",
   "execution_count": null,
   "id": "fe4a8b0f",
   "metadata": {},
   "outputs": [],
   "source": []
  },
  {
   "cell_type": "code",
   "execution_count": 21,
   "id": "ed7c4e17",
   "metadata": {},
   "outputs": [
    {
     "name": "stdout",
     "output_type": "stream",
     "text": [
      "     product_id product_name  aisle_id  department_id\n",
      "37           38          NaN       100             21\n",
      "71           72          NaN       100             21\n",
      "109         110          NaN       100             21\n",
      "296         297          NaN       100             21\n",
      "416         417          NaN       100             21\n",
      "\n",
      "100    1258\n",
      "Name: aisle_id, dtype: int64\n"
     ]
    }
   ],
   "source": [
    "# Are all of the missing product names associated with aisle ID 100?\n",
    "missing_products = products[products['product_name'].isna()]\n",
    "print(missing_products.head())\n",
    "print()\n",
    "aisles_miss = missing_products['aisle_id'].value_counts()\n",
    "print(aisles_miss)"
   ]
  },
  {
   "cell_type": "markdown",
   "id": "ca3f36a0",
   "metadata": {},
   "source": [
    "This proves that the answer to the question posed is yes. "
   ]
  },
  {
   "cell_type": "code",
   "execution_count": 22,
   "id": "8fd0a541",
   "metadata": {},
   "outputs": [
    {
     "name": "stdout",
     "output_type": "stream",
     "text": [
      "     product_id product_name  aisle_id  department_id\n",
      "37           38          NaN       100             21\n",
      "71           72          NaN       100             21\n",
      "109         110          NaN       100             21\n",
      "296         297          NaN       100             21\n",
      "416         417          NaN       100             21\n",
      "\n",
      "21    1258\n",
      "Name: department_id, dtype: int64\n"
     ]
    }
   ],
   "source": [
    "# Are all of the missing product names associated with department ID 21?\n",
    "missing_prod_dep = products[products['product_name'].isna()]\n",
    "print(missing_products.head())\n",
    "print()\n",
    "deps = missing_prod_dep['department_id'].value_counts()\n",
    "print(deps)"
   ]
  },
  {
   "cell_type": "markdown",
   "id": "ff71b335",
   "metadata": {},
   "source": [
    "This proves again that the answer to the question is yes"
   ]
  },
  {
   "cell_type": "code",
   "execution_count": 23,
   "id": "325c3464",
   "metadata": {},
   "outputs": [
    {
     "name": "stdout",
     "output_type": "stream",
     "text": [
      "   aisle_id                       aisle\n",
      "0         1       prepared soups salads\n",
      "1         2           specialty cheeses\n",
      "2         3         energy granola bars\n",
      "3         4               instant foods\n",
      "4         5  marinades meat preparation\n",
      "\n",
      "   department_id department\n",
      "0              1     frozen\n",
      "1              2      other\n",
      "2              3     bakery\n",
      "3              4    produce\n",
      "4              5    alcohol\n",
      "\n",
      "    aisle_id    aisle\n",
      "99       100  missing\n",
      "\n",
      "    department_id department\n",
      "20             21    missing\n"
     ]
    }
   ],
   "source": [
    "# What is this ailse and department?\n",
    "print(aisles.head())\n",
    "print()\n",
    "print(departments.head())\n",
    "\n",
    "aisle_100 = aisles[aisles['aisle_id'] == 100]\n",
    "print()\n",
    "print(aisle_100)\n",
    "print()\n",
    "dep_21 = departments[departments['department_id'] == 21]\n",
    "print(dep_21)"
   ]
  },
  {
   "cell_type": "markdown",
   "id": "29829f88",
   "metadata": {},
   "source": [
    "Aisle 100 = missing\n",
    "\n",
    "Department 21 = missing"
   ]
  },
  {
   "cell_type": "code",
   "execution_count": 24,
   "id": "6b295120",
   "metadata": {},
   "outputs": [
    {
     "name": "stdout",
     "output_type": "stream",
     "text": [
      "0\n",
      "\n",
      "product_id            38\n",
      "product_name     Unknown\n",
      "aisle_id             100\n",
      "department_id         21\n",
      "Name: 37, dtype: object\n"
     ]
    }
   ],
   "source": [
    "# Fill missing product names with 'Unknown'\n",
    "products['product_name'].fillna('Unknown', inplace=True)\n",
    "print(products['product_name'].isna().sum())\n",
    "print()\n",
    "print(products.iloc[37])"
   ]
  },
  {
   "cell_type": "markdown",
   "id": "fc70e5ad",
   "metadata": {},
   "source": []
  },
  {
   "cell_type": "markdown",
   "id": "7eb45c86",
   "metadata": {},
   "source": [
    "### `orders` data frame"
   ]
  },
  {
   "cell_type": "code",
   "execution_count": null,
   "id": "93e41d96",
   "metadata": {},
   "outputs": [],
   "source": []
  },
  {
   "cell_type": "code",
   "execution_count": 25,
   "id": "166e5a86",
   "metadata": {},
   "outputs": [
    {
     "name": "stdout",
     "output_type": "stream",
     "text": [
      "   order_id  user_id  order_number  order_dow  order_hour_of_day  \\\n",
      "0   1515936   183418            11          6                 13   \n",
      "1   1690866   163593             5          5                 12   \n",
      "2   1454967    39980             4          5                 19   \n",
      "3   1768857    82516            56          0                 20   \n",
      "4   3007858   196724             2          4                 12   \n",
      "\n",
      "   days_since_prior_order  \n",
      "0                    30.0  \n",
      "1                     9.0  \n",
      "2                     2.0  \n",
      "3                    10.0  \n",
      "4                    17.0  \n",
      "\n",
      "order_id                  0\n",
      "user_id                   0\n",
      "order_number              0\n",
      "order_dow                 0\n",
      "order_hour_of_day         0\n",
      "days_since_prior_order    0\n",
      "dtype: int64\n"
     ]
    }
   ],
   "source": [
    "# Are there any missing values where it's not a customer's first order?\n",
    "non_first_orders = orders[orders['order_number'] > 1]\n",
    "print(non_first_orders.head())\n",
    "print()\n",
    "missing_val = non_first_orders.isna().sum()\n",
    "print(missing_val)"
   ]
  },
  {
   "cell_type": "markdown",
   "id": "d75bbea7",
   "metadata": {},
   "source": [
    "There are none, this is a good indicator of complete data. Especially since the days_since_prior_order is also not missing values"
   ]
  },
  {
   "cell_type": "markdown",
   "id": "4e23d089",
   "metadata": {},
   "source": []
  },
  {
   "cell_type": "markdown",
   "id": "69dc9ca4",
   "metadata": {},
   "source": [
    "### `order_products` data frame"
   ]
  },
  {
   "cell_type": "code",
   "execution_count": null,
   "id": "b8240253",
   "metadata": {},
   "outputs": [],
   "source": []
  },
  {
   "cell_type": "code",
   "execution_count": 26,
   "id": "9a78e5ee",
   "metadata": {},
   "outputs": [
    {
     "data": {
      "text/html": [
       "<div>\n",
       "<style scoped>\n",
       "    .dataframe tbody tr th:only-of-type {\n",
       "        vertical-align: middle;\n",
       "    }\n",
       "\n",
       "    .dataframe tbody tr th {\n",
       "        vertical-align: top;\n",
       "    }\n",
       "\n",
       "    .dataframe thead th {\n",
       "        text-align: right;\n",
       "    }\n",
       "</style>\n",
       "<table border=\"1\" class=\"dataframe\">\n",
       "  <thead>\n",
       "    <tr style=\"text-align: right;\">\n",
       "      <th></th>\n",
       "      <th>order_id</th>\n",
       "      <th>product_id</th>\n",
       "      <th>add_to_cart_order</th>\n",
       "      <th>reordered</th>\n",
       "    </tr>\n",
       "  </thead>\n",
       "  <tbody>\n",
       "    <tr>\n",
       "      <th>count</th>\n",
       "      <td>4.545007e+06</td>\n",
       "      <td>4.545007e+06</td>\n",
       "      <td>4.544171e+06</td>\n",
       "      <td>4.545007e+06</td>\n",
       "    </tr>\n",
       "    <tr>\n",
       "      <th>mean</th>\n",
       "      <td>1.711166e+06</td>\n",
       "      <td>2.558084e+04</td>\n",
       "      <td>8.351669e+00</td>\n",
       "      <td>5.905025e-01</td>\n",
       "    </tr>\n",
       "    <tr>\n",
       "      <th>std</th>\n",
       "      <td>9.850955e+05</td>\n",
       "      <td>1.409552e+04</td>\n",
       "      <td>7.080368e+00</td>\n",
       "      <td>4.917411e-01</td>\n",
       "    </tr>\n",
       "    <tr>\n",
       "      <th>min</th>\n",
       "      <td>4.000000e+00</td>\n",
       "      <td>1.000000e+00</td>\n",
       "      <td>1.000000e+00</td>\n",
       "      <td>0.000000e+00</td>\n",
       "    </tr>\n",
       "    <tr>\n",
       "      <th>25%</th>\n",
       "      <td>8.608170e+05</td>\n",
       "      <td>1.353500e+04</td>\n",
       "      <td>3.000000e+00</td>\n",
       "      <td>0.000000e+00</td>\n",
       "    </tr>\n",
       "    <tr>\n",
       "      <th>50%</th>\n",
       "      <td>1.711530e+06</td>\n",
       "      <td>2.527200e+04</td>\n",
       "      <td>6.000000e+00</td>\n",
       "      <td>1.000000e+00</td>\n",
       "    </tr>\n",
       "    <tr>\n",
       "      <th>75%</th>\n",
       "      <td>2.561311e+06</td>\n",
       "      <td>3.793500e+04</td>\n",
       "      <td>1.100000e+01</td>\n",
       "      <td>1.000000e+00</td>\n",
       "    </tr>\n",
       "    <tr>\n",
       "      <th>max</th>\n",
       "      <td>3.421079e+06</td>\n",
       "      <td>4.969400e+04</td>\n",
       "      <td>6.400000e+01</td>\n",
       "      <td>1.000000e+00</td>\n",
       "    </tr>\n",
       "  </tbody>\n",
       "</table>\n",
       "</div>"
      ],
      "text/plain": [
       "           order_id    product_id  add_to_cart_order     reordered\n",
       "count  4.545007e+06  4.545007e+06       4.544171e+06  4.545007e+06\n",
       "mean   1.711166e+06  2.558084e+04       8.351669e+00  5.905025e-01\n",
       "std    9.850955e+05  1.409552e+04       7.080368e+00  4.917411e-01\n",
       "min    4.000000e+00  1.000000e+00       1.000000e+00  0.000000e+00\n",
       "25%    8.608170e+05  1.353500e+04       3.000000e+00  0.000000e+00\n",
       "50%    1.711530e+06  2.527200e+04       6.000000e+00  1.000000e+00\n",
       "75%    2.561311e+06  3.793500e+04       1.100000e+01  1.000000e+00\n",
       "max    3.421079e+06  4.969400e+04       6.400000e+01  1.000000e+00"
      ]
     },
     "execution_count": 26,
     "metadata": {},
     "output_type": "execute_result"
    }
   ],
   "source": [
    "# What are the min and max values in this column?\n",
    "order_products.describe()"
   ]
  },
  {
   "cell_type": "markdown",
   "id": "7a76dac0",
   "metadata": {},
   "source": [
    "This question asked is extremely vague, what column? The dataframe has 4 columns. You can see the min and max for each column in the table above"
   ]
  },
  {
   "cell_type": "code",
   "execution_count": 27,
   "id": "ab9d0c2b",
   "metadata": {},
   "outputs": [
    {
     "name": "stdout",
     "output_type": "stream",
     "text": [
      "[2449164 1968313 2926893 1717990 1959075  844733   61355  936852  264710\n",
      " 1564093  129627  293169 2849370 1386261 3308010  903110 2136777 3347453\n",
      " 1888628  165801 2094761 1038146 2997021  813364 2256933  171934 2409109\n",
      " 1730767 1169835  733526  404157 3125735  747668 1800005 1961723  871281\n",
      "  388234 1648217 1477139  102236 1021563 1832957 2721963  678116 1220886\n",
      " 1673227 2999801 1633337 2470674 2625444 1677118 2479011 3383594 1183255\n",
      " 1713430 2652650 1598369 1916118  854647 1302315  888470  180546 2621907\n",
      " 1308785 2729254    9310 2170451 2979697 1625713 1529171]\n",
      "\n",
      "\n",
      "    order_id\n",
      "0    2449164\n",
      "1    1968313\n",
      "2    2926893\n",
      "3    1717990\n",
      "4    1959075\n",
      "..       ...\n",
      "65      9310\n",
      "66   2170451\n",
      "67   2979697\n",
      "68   1625713\n",
      "69   1529171\n",
      "\n",
      "[70 rows x 1 columns]\n"
     ]
    }
   ],
   "source": [
    "# Save all order IDs with at least one missing value in 'add_to_cart_order'\n",
    "missing_add_to_cart = order_products[order_products['add_to_cart_order'].isna()]\n",
    "order_id_missing = missing_add_to_cart['order_id'].unique()\n",
    "print(order_id_missing)\n",
    "print()\n",
    "print()\n",
    "order_ids_data = pd.DataFrame(order_id_missing, columns=['order_id'])\n",
    "print(order_ids_data)"
   ]
  },
  {
   "cell_type": "code",
   "execution_count": 28,
   "id": "54c31695",
   "metadata": {},
   "outputs": [
    {
     "name": "stdout",
     "output_type": "stream",
     "text": [
      "61355      63\n",
      "3308010    51\n",
      "2136777    44\n",
      "171934     40\n",
      "1959075    34\n",
      "           ..\n",
      "2652650     1\n",
      "2729254     1\n",
      "2621907     1\n",
      "888470      1\n",
      "1677118     1\n",
      "Name: order_id, Length: 70, dtype: int64\n",
      "\n",
      "There are orders with missing values that have 64 or fewer products.\n"
     ]
    }
   ],
   "source": [
    "# Do all orders with missing values have more than 64 products?\n",
    "product_count = missing_add_to_cart['order_id'].value_counts()\n",
    "print(product_count)\n",
    "print()\n",
    "if (product_count <= 64).sum() > 0:\n",
    "    print(\"There are orders with missing values that have 64 or fewer products.\")\n",
    "else:\n",
    "    print(\"All orders with missing values have more than 64 products.\")"
   ]
  },
  {
   "cell_type": "code",
   "execution_count": 29,
   "id": "7a987d08",
   "metadata": {},
   "outputs": [
    {
     "name": "stdout",
     "output_type": "stream",
     "text": [
      "int64\n",
      "0\n"
     ]
    }
   ],
   "source": [
    "# Replace missing values with 999 and convert column to integer type\n",
    "order_products['add_to_cart_order'].fillna(999, inplace=True)\n",
    "order_products['add_to_cart_order'] = order_products['add_to_cart_order'].astype('int')\n",
    "\n",
    "print(order_products['add_to_cart_order'].dtype)\n",
    "print(order_products['add_to_cart_order'].isna().sum())"
   ]
  },
  {
   "cell_type": "markdown",
   "id": "fea4bcc7",
   "metadata": {},
   "source": [
    "<div class=\"alert alert-block alert-success\">\n",
    "<b>Reviewer's comment v1</b>\n",
    "\n",
    "Overall, your exploration and cleaning process is well-thought-out. \n",
    "\n",
    "You correctly identified and addressed NaN values in `product_name`, `days_since_prior_order`, `add_to_cart_order`. "
   ]
  },
  {
   "cell_type": "markdown",
   "id": "e113a04f",
   "metadata": {},
   "source": [
    "<div class=\"alert alert-block alert-warning\">\n",
    "<b>Reviewer's comment v1</b>\n",
    "\n",
    "If you're repeating the same set of operations (like checking info, printing the head, checking for NaNs, and checking for duplicates) for each dataframe, consider creating a function to perform these checks. This will make your code cleaner and more efficient.\n",
    "\n",
    "````\n",
    "def analyze_data(df):\n",
    "    # Info\n",
    "    print(df.info())\n",
    "    \n",
    "    # First few rows\n",
    "    print(df.head())\n",
    "    \n",
    "    # Missing values\n",
    "    print(df.isna().sum())\n",
    "    \n",
    "    # Duplicates\n",
    "    print(df.duplicated().sum())\n",
    "\n",
    "# Use the function\n",
    "analyze_data(aisles)\n",
    "analyze_data(departments)\n",
    "# ... and so on for other dataframes\n",
    "````\n",
    "    \n",
    "\n",
    "<b>Student comments:</b> thanks for that, I will keep it in my mind I tried to put this orderders at the bigganing to avoid too much detaild.</div> "
   ]
  },
  {
   "cell_type": "markdown",
   "id": "turkish-kidney",
   "metadata": {},
   "source": [
    "# [A] Easy (must complete all to pass)"
   ]
  },
  {
   "cell_type": "markdown",
   "id": "short-capability",
   "metadata": {},
   "source": [
    "### [A1] Verify that the `'order_hour_of_day'` and `'order_dow'` values in the `orders` tables are sensible (i.e. `'order_hour_of_day'` ranges from 0 to 23 and `'order_dow'` ranges from 0 to 6)"
   ]
  },
  {
   "cell_type": "code",
   "execution_count": 30,
   "id": "growing-fruit",
   "metadata": {},
   "outputs": [
    {
     "name": "stdout",
     "output_type": "stream",
     "text": [
      "[ 0  1  2  3  4  5  6  7  8  9 10 11 12 13 14 15 16 17 18 19 20 21 22 23]\n",
      "\n",
      "[0 1 2 3 4 5 6]\n"
     ]
    }
   ],
   "source": [
    "time = orders['order_hour_of_day'].unique()\n",
    "time.sort()\n",
    "print(time)\n",
    "print()\n",
    "days = orders['order_dow'].unique()\n",
    "days.sort()\n",
    "print(days)"
   ]
  },
  {
   "cell_type": "markdown",
   "id": "ac6eb00f",
   "metadata": {},
   "source": [
    "All good!"
   ]
  },
  {
   "cell_type": "markdown",
   "id": "de44c293",
   "metadata": {},
   "source": [
    "<div class=\"alert alert-block alert-success\">\n",
    "<b>Reviewer's comment v1</b>\n",
    "\n",
    "As a second approach you could use `.describe()` function for getting an initial understanding of data, especially for numeric columns. However, this function might return descriptive statistics for all numeric columns in the dataframe. If you are interested in specific columns, you might want to narrow it down.\n",
    "\n",
    "`instacart[['order_hour_of_day', 'order_dow']].describe()`\n",
    "    \n",
    "<b>Student comments:</b> I will keep it in my mind, Thank you.</div> \n"
   ]
  },
  {
   "cell_type": "markdown",
   "id": "a6743a70",
   "metadata": {},
   "source": [
    "### [A2] What time of day do people shop for groceries?"
   ]
  },
  {
   "cell_type": "code",
   "execution_count": 31,
   "id": "a36cca27",
   "metadata": {},
   "outputs": [
    {
     "data": {
      "image/png": "[encoded data removed]",
      "text/plain": [
       "<Figure size 1000x600 with 1 Axes>"
      ]
     },
     "metadata": {},
     "output_type": "display_data"
    }
   ],
   "source": [
    "import matplotlib.pyplot as plt\n",
    "\n",
    "hourly_count = orders['order_hour_of_day'].value_counts().sort_index()\n",
    "\n",
    "hourly_count.plot(kind='bar', title='Orders by Hour of the Day', xlabel='Time of Day', ylabel='# of Orders', figsize=(10,6), rot=45\n",
    ")\n",
    "\n",
    "plt.show()"
   ]
  },
  {
   "cell_type": "markdown",
   "id": "f7e2d17a",
   "metadata": {},
   "source": [
    "According to this bar chart, it is evident that people tend to shop the most for groceries around the middle of the day, with peak at 10am"
   ]
  },
  {
   "cell_type": "markdown",
   "id": "11270eed",
   "metadata": {},
   "source": [
    "<div class=\"alert alert-block alert-success\">\n",
    "<b>Reviewer's comment v1</b>\n",
    "\n",
    "Well done! "
   ]
  },
  {
   "cell_type": "markdown",
   "id": "documented-command",
   "metadata": {},
   "source": [
    "### [A3] What day of the week do people shop for groceries?"
   ]
  },
  {
   "cell_type": "code",
   "execution_count": 32,
   "id": "chief-digit",
   "metadata": {},
   "outputs": [
    {
     "data": {
      "image/png": "[encoded data removed]",
      "text/plain": [
       "<Figure size 1000x600 with 1 Axes>"
      ]
     },
     "metadata": {},
     "output_type": "display_data"
    }
   ],
   "source": [
    "import matplotlib.pyplot as plt\n",
    "\n",
    "day_count = orders['order_dow'].value_counts().sort_index()\n",
    "\n",
    "day_count.plot(kind='bar', title='Orders by Day of the Week', xlabel='Day of Week', ylabel='# of Orders', figsize=(10,6), rot=45\n",
    ")\n",
    "\n",
    "plt.show()"
   ]
  },
  {
   "cell_type": "markdown",
   "id": "480d9bb1",
   "metadata": {},
   "source": [
    "According to this chart, the most popular time of the week to shop is earlier in the week, and least is the middle of the week\n"
   ]
  },
  {
   "cell_type": "markdown",
   "id": "dominant-lightning",
   "metadata": {},
   "source": [
    "<div class=\"alert alert-block alert-success\">\n",
    "<b>Reviewer's comment v1</b>\n",
    "\n",
    "Everything is correct here. "
   ]
  },
  {
   "cell_type": "markdown",
   "id": "cutting-concert",
   "metadata": {},
   "source": [
    "### [A4] How long do people wait until placing another order?"
   ]
  },
  {
   "cell_type": "code",
   "execution_count": 33,
   "id": "c231f523",
   "metadata": {},
   "outputs": [
    {
     "data": {
      "image/png": "[encoded data removed]",
      "text/plain": [
       "<Figure size 1000x600 with 1 Axes>"
      ]
     },
     "metadata": {},
     "output_type": "display_data"
    }
   ],
   "source": [
    "import matplotlib.pyplot as plt\n",
    "\n",
    "wait_count = orders['days_since_prior_order'].value_counts().sort_index()\n",
    "\n",
    "wait_count.plot(kind='bar', title='Days Until Next Order', xlabel='Days since Prior Order', ylabel='# of Orders', figsize=(10,6), rot=60\n",
    ")\n",
    "\n",
    "plt.show()"
   ]
  },
  {
   "cell_type": "markdown",
   "id": "discrete-vertex",
   "metadata": {},
   "source": []
  },
  {
   "cell_type": "markdown",
   "id": "d4fcac9d",
   "metadata": {},
   "source": [
    "According to this chart, the most popular wait times before ordering are one week, or one month"
   ]
  },
  {
   "cell_type": "markdown",
   "id": "6ae78e65",
   "metadata": {},
   "source": [
    "<div class=\"alert alert-block alert-success\">\n",
    "<b>Reviewer's comment v1</b>\n",
    "\n",
    "Well done! "
   ]
  },
  {
   "cell_type": "markdown",
   "id": "tight-staff",
   "metadata": {},
   "source": [
    "# [B] Medium (must complete all to pass)"
   ]
  },
  {
   "cell_type": "markdown",
   "id": "packed-classic",
   "metadata": {},
   "source": [
    "### [B1] Is there a difference in `'order_hour_of_day'` distributions on Wednesdays and Saturdays? Plot the histograms for both days and describe the differences that you see."
   ]
  },
  {
   "cell_type": "code",
   "execution_count": 34,
   "id": "d89b8403",
   "metadata": {},
   "outputs": [
    {
     "data": {
      "image/png": "[encoded data removed]",
      "text/plain": [
       "<Figure size 1000x600 with 1 Axes>"
      ]
     },
     "metadata": {},
     "output_type": "display_data"
    }
   ],
   "source": [
    "import matplotlib.pyplot as plt\n",
    "\n",
    "wed_orders = orders[orders['order_dow'] == 3]\n",
    "\n",
    "wed_orders['order_hour_of_day'].plot(kind='hist', title='Order Distribution on Wednesday', xlabel='Hour', ylabel='Orders', \n",
    "                                    bins=24, figsize=(10, 6), range=(0, 23))\n",
    "\n",
    "plt.show()"
   ]
  },
  {
   "cell_type": "markdown",
   "id": "4cda7bbb",
   "metadata": {},
   "source": [
    "<div class=\"alert alert-block alert-warning\">\n",
    "<b>Reviewer's comment v1</b>\n",
    "\n",
    "Typically, it is beneficial to group all imports into two separate cells at the beginning of your project: one for data imports and one for library imports. This approach allows you to load new libraries or make updates without overwriting existing data. By organizing your imports this way, you maintain a clear structure and ensure that data integrity is preserved throughout your project."
   ]
  },
  {
   "cell_type": "code",
   "execution_count": 35,
   "id": "797c90a8",
   "metadata": {},
   "outputs": [
    {
     "data": {
      "image/png": "[encoded data removed]",
      "text/plain": [
       "<Figure size 1000x600 with 1 Axes>"
      ]
     },
     "metadata": {},
     "output_type": "display_data"
    }
   ],
   "source": [
    "import matplotlib.pyplot as plt\n",
    "\n",
    "sat_orders = orders[orders['order_dow'] == 6]\n",
    "\n",
    "sat_orders['order_hour_of_day'].plot(kind='hist', title='Order Distribution on Saturday', xlabel='Hour', ylabel='Orders', \n",
    "                                    bins=24, figsize=(10, 6), range=(0, 23))\n",
    "\n",
    "plt.show()"
   ]
  },
  {
   "cell_type": "markdown",
   "id": "96a32e9d",
   "metadata": {},
   "source": [
    "It is evident in our two histograms that the data for Saturday is more skewed towards the end of the day than Wednesday is. Although the difference is not large, you can see a heavier portion of the orders being places later on Saturday than Wednesday. This could be assumed to be due to Wednesday being a work day and night, while Saturday is not."
   ]
  },
  {
   "cell_type": "markdown",
   "id": "charitable-congo",
   "metadata": {},
   "source": [
    "<div class=\"alert alert-block alert-success\">\n",
    "<b>Reviewer's comment v1</b>\n",
    " \n",
    "Everything is correct here. "
   ]
  },
  {
   "cell_type": "markdown",
   "id": "e3891143",
   "metadata": {},
   "source": [
    "### [B2] What's the distribution for the number of orders per customer?"
   ]
  },
  {
   "cell_type": "code",
   "execution_count": 36,
   "id": "d8c26c23",
   "metadata": {},
   "outputs": [
    {
     "data": {
      "image/png": "[encoded data removed]",
      "text/plain": [
       "<Figure size 1000x600 with 1 Axes>"
      ]
     },
     "metadata": {},
     "output_type": "display_data"
    }
   ],
   "source": [
    "import matplotlib.pyplot as plt\n",
    "\n",
    "orders_per_customer = orders.groupby('user_id')['order_id'].count()\n",
    "\n",
    "orders_per_customer.plot(kind='hist', bins=30, title='Distribution of Orders per Customer',\n",
    "                         xlabel='Number of Orders per Customer', ylabel='Number of Customers',\n",
    "                         figsize=(10, 6))\n",
    "\n",
    "plt.show()"
   ]
  },
  {
   "cell_type": "markdown",
   "id": "d2eff7d5",
   "metadata": {},
   "source": [
    "<div class=\"alert alert-block alert-success\">\n",
    "<b>Reviewer's comment v1</b>\n",
    " \n",
    "You got correct results. "
   ]
  },
  {
   "cell_type": "markdown",
   "id": "54a0319c",
   "metadata": {},
   "source": [
    "### [B3] What are the top 20 popular products (display their id and name)?"
   ]
  },
  {
   "cell_type": "code",
   "execution_count": 37,
   "id": "exterior-arizona",
   "metadata": {
    "scrolled": true
   },
   "outputs": [
    {
     "name": "stdout",
     "output_type": "stream",
     "text": [
      "    product_id              product_name  count\n",
      "0        24852                    banana  66050\n",
      "1        13176    bag of organic bananas  53297\n",
      "2        21137      organic strawberries  37039\n",
      "3        21903      organic baby spinach  33971\n",
      "4        47209      organic hass avocado  29773\n",
      "5        47766           organic avocado  24689\n",
      "6        47626               large lemon  21495\n",
      "7        16797              strawberries  20018\n",
      "8        26209                     limes  19690\n",
      "9        27845        organic whole milk  19600\n",
      "10       27966       organic raspberries  19197\n",
      "11       22935      organic yellow onion  15898\n",
      "12       24964            organic garlic  15292\n",
      "13       45007          organic zucchini  14584\n",
      "14       39275       organic blueberries  13879\n",
      "15       49683            cucumber kirby  13675\n",
      "16       28204        organic fuji apple  12544\n",
      "17        5876             organic lemon  12232\n",
      "18        8277  apple honeycrisp organic  11993\n",
      "19       40706    organic grape tomatoes  11781\n"
     ]
    }
   ],
   "source": [
    "top_products = order_products['product_id'].value_counts().head(20)\n",
    "\n",
    "top_products = top_products.reset_index()\n",
    "top_products.columns = ['product_id', 'count']\n",
    "\n",
    "top_products = top_products.merge(products[['product_id', 'product_name']], on='product_id', how='left')\n",
    "\n",
    "print(top_products[['product_id', 'product_name', 'count']])"
   ]
  },
  {
   "cell_type": "markdown",
   "id": "7df00f47",
   "metadata": {},
   "source": [
    "<div class=\"alert alert-block alert-success\">\n",
    "<b>Reviewer's comment v1</b>\n",
    " \n",
    "Additionally, you could plot the results on this query in the following way: \n",
    "\n",
    "```\n",
    "plt.figure(figsize=(10,6))\n",
    "plt.barh(top_20_popular['product_name'], top_20_popular['product_id'], color='skyblue')\n",
    "plt.xlabel('Product ID')\n",
    "plt.ylabel('Product Name')\n",
    "plt.title('Barplot of Product IDs against Product Names')\n",
    "plt.gca().invert_yaxis()  # To have the first product on top\n",
    "plt.tight_layout()\n",
    "plt.show()   \n",
    "```"
   ]
  },
  {
   "cell_type": "markdown",
   "id": "gross-theme",
   "metadata": {},
   "source": [
    "# [C] Hard (must complete at least two to pass)"
   ]
  },
  {
   "cell_type": "markdown",
   "id": "romantic-deposit",
   "metadata": {},
   "source": [
    "### [C1] How many items do people typically buy in one order? What does the distribution look like?"
   ]
  },
  {
   "cell_type": "code",
   "execution_count": null,
   "id": "virtual-punch",
   "metadata": {},
   "outputs": [],
   "source": []
  },
  {
   "cell_type": "code",
   "execution_count": null,
   "id": "sensitive-breathing",
   "metadata": {},
   "outputs": [],
   "source": []
  },
  {
   "cell_type": "code",
   "execution_count": null,
   "id": "completed-frank",
   "metadata": {},
   "outputs": [],
   "source": []
  },
  {
   "cell_type": "markdown",
   "id": "designed-mortality",
   "metadata": {},
   "source": []
  },
  {
   "cell_type": "markdown",
   "id": "5e6b5537",
   "metadata": {},
   "source": [
    "### [C2] What are the top 20 items that are reordered most frequently (display their names and product IDs)?"
   ]
  },
  {
   "cell_type": "code",
   "execution_count": 38,
   "id": "9374e55a",
   "metadata": {},
   "outputs": [
    {
     "name": "stdout",
     "output_type": "stream",
     "text": [
      "    product_id              product_name  count\n",
      "0        24852                    banana  55763\n",
      "1        13176    bag of organic bananas  44450\n",
      "2        21137      organic strawberries  28639\n",
      "3        21903      organic baby spinach  26233\n",
      "4        47209      organic hass avocado  23629\n",
      "5        47766           organic avocado  18743\n",
      "6        27845        organic whole milk  16251\n",
      "7        47626               large lemon  15044\n",
      "8        27966       organic raspberries  14748\n",
      "9        16797              strawberries  13945\n",
      "10       26209                     limes  13327\n",
      "11       22935      organic yellow onion  11145\n",
      "12       24964            organic garlic  10411\n",
      "13       45007          organic zucchini  10076\n",
      "14       49683            cucumber kirby   9538\n",
      "15       28204        organic fuji apple   8989\n",
      "16        8277  apple honeycrisp organic   8836\n",
      "17       39275       organic blueberries   8799\n",
      "18        5876             organic lemon   8412\n",
      "19       49235       organic half & half   8389\n"
     ]
    }
   ],
   "source": [
    "reordered_items = order_products[order_products['reordered'] == 1]\n",
    "\n",
    "top_reordered_items = reordered_items['product_id'].value_counts().head(20)\n",
    "\n",
    "top_reordered_items = top_reordered_items.reset_index()\n",
    "top_reordered_items.columns = ['product_id', 'count']\n",
    "\n",
    "top_reordered_items = top_reordered_items.merge(products[['product_id', 'product_name']], on='product_id', how='left')\n",
    "\n",
    "print(top_reordered_items[['product_id', 'product_name', 'count']])"
   ]
  },
  {
   "cell_type": "markdown",
   "id": "8d7fe4c2",
   "metadata": {
    "scrolled": true
   },
   "source": [
    "<div class=\"alert alert-block alert-success\">\n",
    "<b>Reviewer's comment v1</b>\n",
    " \n",
    "You got correct results. You could create a graph with this information. I left an example of how to do that above.\n",
    "    \n",
    "PS: in many cases it is helpful to support your results with a plot (barchart in that case). "
   ]
  },
  {
   "cell_type": "code",
   "execution_count": null,
   "id": "professional-surfing",
   "metadata": {
    "scrolled": true
   },
   "outputs": [],
   "source": []
  },
  {
   "cell_type": "code",
   "execution_count": null,
   "id": "48dd3658",
   "metadata": {},
   "outputs": [],
   "source": []
  },
  {
   "cell_type": "markdown",
   "id": "80e70c74",
   "metadata": {},
   "source": []
  },
  {
   "cell_type": "markdown",
   "id": "9d312b14",
   "metadata": {},
   "source": [
    "### [C3] For each product, what proportion of its orders are reorders?"
   ]
  },
  {
   "cell_type": "code",
   "execution_count": null,
   "id": "8ae9f4b1",
   "metadata": {},
   "outputs": [],
   "source": []
  },
  {
   "cell_type": "code",
   "execution_count": null,
   "id": "103e7fe1",
   "metadata": {},
   "outputs": [],
   "source": []
  },
  {
   "cell_type": "code",
   "execution_count": null,
   "id": "social-individual",
   "metadata": {},
   "outputs": [],
   "source": []
  },
  {
   "cell_type": "markdown",
   "id": "subject-boxing",
   "metadata": {},
   "source": [
    "### [C4] For each customer, what proportion of their products ordered are reorders?"
   ]
  },
  {
   "cell_type": "code",
   "execution_count": null,
   "id": "medical-couple",
   "metadata": {
    "scrolled": true
   },
   "outputs": [],
   "source": []
  },
  {
   "cell_type": "code",
   "execution_count": null,
   "id": "8892e4b4",
   "metadata": {},
   "outputs": [],
   "source": []
  },
  {
   "cell_type": "markdown",
   "id": "92d35137",
   "metadata": {},
   "source": [
    "### [C5] What are the top 20 items that people put in their carts first? "
   ]
  },
  {
   "cell_type": "code",
   "execution_count": 39,
   "id": "0ae57274",
   "metadata": {
    "scrolled": true
   },
   "outputs": [
    {
     "name": "stdout",
     "output_type": "stream",
     "text": [
      "    product_id                 product_name  count\n",
      "0        24852                       banana  15562\n",
      "1        13176       bag of organic bananas  11026\n",
      "2        27845           organic whole milk   4363\n",
      "3        21137         organic strawberries   3946\n",
      "4        47209         organic hass avocado   3390\n",
      "5        21903         organic baby spinach   3336\n",
      "6        47766              organic avocado   3044\n",
      "7        19660                 spring water   2336\n",
      "8        16797                 strawberries   2308\n",
      "9        27966          organic raspberries   2024\n",
      "10       44632   sparkling water grapefruit   1914\n",
      "11       49235          organic half & half   1797\n",
      "12       47626                  large lemon   1737\n",
      "13         196                         soda   1733\n",
      "14       38689     organic reduced fat milk   1397\n",
      "15       26209                        limes   1370\n",
      "16       12341                hass avocados   1340\n",
      "17        5785  organic reduced fat 2% milk   1310\n",
      "18       27086                  half & half   1309\n",
      "19       22935         organic yellow onion   1246\n"
     ]
    }
   ],
   "source": [
    "first_in_cart = order_products[order_products['add_to_cart_order'] == 1]\n",
    "\n",
    "top_first_items = first_in_cart['product_id'].value_counts().head(20)\n",
    "\n",
    "top_first_items = top_first_items.reset_index()\n",
    "top_first_items.columns = ['product_id', 'count']\n",
    "\n",
    "top_first_items = top_first_items.merge(products[['product_id', 'product_name']], on='product_id', how='left')\n",
    "\n",
    "print(top_first_items[['product_id', 'product_name', 'count']])"
   ]
  },
  {
   "cell_type": "markdown",
   "id": "631a7c2a",
   "metadata": {
    "scrolled": true
   },
   "source": [
    "<div class=\"alert alert-block alert-success\">\n",
    "<b>Reviewer's comment v1</b>\n",
    " \n",
    "Also everything is correct here. "
   ]
  },
  {
   "cell_type": "code",
   "execution_count": null,
   "id": "08e41ec2",
   "metadata": {},
   "outputs": [],
   "source": []
  },
  {
   "cell_type": "markdown",
   "id": "28ce9872",
   "metadata": {},
   "source": []
  },
  {
   "cell_type": "code",
   "execution_count": null,
   "id": "f4a2af09",
   "metadata": {},
   "outputs": [],
   "source": []
  }
 ],
 "metadata": {
  "ExecuteTimeLog": [
   {
    "duration": 283,
    "start_time": "2024-10-28T15:15:33.812Z"
   },
   {
    "duration": 3,
    "start_time": "2024-10-28T15:15:41.514Z"
   },
   {
    "duration": 181,
    "start_time": "2024-10-28T15:17:00.670Z"
   },
   {
    "duration": 285,
    "start_time": "2024-10-28T15:17:25.559Z"
   },
   {
    "duration": 49,
    "start_time": "2024-10-28T15:17:29.234Z"
   },
   {
    "duration": 33,
    "start_time": "2024-10-28T15:17:34.315Z"
   },
   {
    "duration": 346,
    "start_time": "2024-10-28T15:17:45.650Z"
   },
   {
    "duration": 3,
    "start_time": "2024-10-28T15:17:45.999Z"
   },
   {
    "duration": 290,
    "start_time": "2024-10-28T15:17:46.004Z"
   },
   {
    "duration": 37,
    "start_time": "2024-10-28T15:17:46.297Z"
   },
   {
    "duration": 2,
    "start_time": "2024-10-28T15:17:46.336Z"
   },
   {
    "duration": 2,
    "start_time": "2024-10-28T15:17:46.340Z"
   },
   {
    "duration": 2,
    "start_time": "2024-10-28T15:17:46.344Z"
   },
   {
    "duration": 2,
    "start_time": "2024-10-28T15:17:46.348Z"
   },
   {
    "duration": 2,
    "start_time": "2024-10-28T15:17:46.352Z"
   },
   {
    "duration": 2,
    "start_time": "2024-10-28T15:17:46.358Z"
   },
   {
    "duration": 2,
    "start_time": "2024-10-28T15:17:46.361Z"
   },
   {
    "duration": 3,
    "start_time": "2024-10-28T15:17:46.365Z"
   },
   {
    "duration": 2,
    "start_time": "2024-10-28T15:17:46.370Z"
   },
   {
    "duration": 2,
    "start_time": "2024-10-28T15:17:46.374Z"
   },
   {
    "duration": 2,
    "start_time": "2024-10-28T15:17:46.378Z"
   },
   {
    "duration": 51,
    "start_time": "2024-10-28T15:17:46.381Z"
   },
   {
    "duration": 3,
    "start_time": "2024-10-28T15:17:46.434Z"
   },
   {
    "duration": 2,
    "start_time": "2024-10-28T15:17:46.439Z"
   },
   {
    "duration": 2,
    "start_time": "2024-10-28T15:17:46.443Z"
   },
   {
    "duration": 2,
    "start_time": "2024-10-28T15:17:46.448Z"
   },
   {
    "duration": 3,
    "start_time": "2024-10-28T15:17:46.451Z"
   },
   {
    "duration": 2,
    "start_time": "2024-10-28T15:17:46.456Z"
   },
   {
    "duration": 2,
    "start_time": "2024-10-28T15:17:46.460Z"
   },
   {
    "duration": 2,
    "start_time": "2024-10-28T15:17:46.464Z"
   },
   {
    "duration": 7,
    "start_time": "2024-10-28T15:18:59.127Z"
   },
   {
    "duration": 4,
    "start_time": "2024-10-28T15:19:00.299Z"
   },
   {
    "duration": 293,
    "start_time": "2024-10-28T15:19:10.028Z"
   },
   {
    "duration": 3,
    "start_time": "2024-10-28T15:19:10.323Z"
   },
   {
    "duration": 289,
    "start_time": "2024-10-28T15:19:10.327Z"
   },
   {
    "duration": 31,
    "start_time": "2024-10-28T15:19:10.618Z"
   },
   {
    "duration": 5,
    "start_time": "2024-10-28T15:19:10.653Z"
   },
   {
    "duration": 4,
    "start_time": "2024-10-28T15:19:10.659Z"
   },
   {
    "duration": 2,
    "start_time": "2024-10-28T15:19:10.665Z"
   },
   {
    "duration": 2,
    "start_time": "2024-10-28T15:19:10.668Z"
   },
   {
    "duration": 3,
    "start_time": "2024-10-28T15:19:10.672Z"
   },
   {
    "duration": 3,
    "start_time": "2024-10-28T15:19:10.676Z"
   },
   {
    "duration": 3,
    "start_time": "2024-10-28T15:19:10.680Z"
   },
   {
    "duration": 2,
    "start_time": "2024-10-28T15:19:10.686Z"
   },
   {
    "duration": 3,
    "start_time": "2024-10-28T15:19:10.689Z"
   },
   {
    "duration": 2,
    "start_time": "2024-10-28T15:19:10.735Z"
   },
   {
    "duration": 2,
    "start_time": "2024-10-28T15:19:10.739Z"
   },
   {
    "duration": 3,
    "start_time": "2024-10-28T15:19:10.743Z"
   },
   {
    "duration": 3,
    "start_time": "2024-10-28T15:19:10.747Z"
   },
   {
    "duration": 3,
    "start_time": "2024-10-28T15:19:10.751Z"
   },
   {
    "duration": 3,
    "start_time": "2024-10-28T15:19:10.755Z"
   },
   {
    "duration": 3,
    "start_time": "2024-10-28T15:19:10.759Z"
   },
   {
    "duration": 3,
    "start_time": "2024-10-28T15:19:10.763Z"
   },
   {
    "duration": 2,
    "start_time": "2024-10-28T15:19:10.768Z"
   },
   {
    "duration": 3,
    "start_time": "2024-10-28T15:19:10.771Z"
   },
   {
    "duration": 3,
    "start_time": "2024-10-28T15:19:10.775Z"
   },
   {
    "duration": 52,
    "start_time": "2024-10-28T15:19:10.780Z"
   },
   {
    "duration": 2,
    "start_time": "2024-10-28T15:19:10.834Z"
   },
   {
    "duration": 2087,
    "start_time": "2024-10-28T15:19:44.867Z"
   },
   {
    "duration": 2045,
    "start_time": "2024-10-28T15:19:48.190Z"
   },
   {
    "duration": 325,
    "start_time": "2024-10-28T15:19:55.351Z"
   },
   {
    "duration": 2,
    "start_time": "2024-10-28T15:19:55.679Z"
   },
   {
    "duration": 266,
    "start_time": "2024-10-28T15:19:55.683Z"
   },
   {
    "duration": 32,
    "start_time": "2024-10-28T15:19:55.951Z"
   },
   {
    "duration": 4,
    "start_time": "2024-10-28T15:19:55.986Z"
   },
   {
    "duration": 4,
    "start_time": "2024-10-28T15:19:55.992Z"
   },
   {
    "duration": 2073,
    "start_time": "2024-10-28T15:19:55.997Z"
   },
   {
    "duration": 2,
    "start_time": "2024-10-28T15:19:58.072Z"
   },
   {
    "duration": 2,
    "start_time": "2024-10-28T15:19:58.077Z"
   },
   {
    "duration": 2,
    "start_time": "2024-10-28T15:19:58.081Z"
   },
   {
    "duration": 2,
    "start_time": "2024-10-28T15:19:58.085Z"
   },
   {
    "duration": 2,
    "start_time": "2024-10-28T15:19:58.089Z"
   },
   {
    "duration": 3,
    "start_time": "2024-10-28T15:19:58.093Z"
   },
   {
    "duration": 34,
    "start_time": "2024-10-28T15:19:58.099Z"
   },
   {
    "duration": 9,
    "start_time": "2024-10-28T15:19:58.136Z"
   },
   {
    "duration": 3,
    "start_time": "2024-10-28T15:19:58.146Z"
   },
   {
    "duration": 2,
    "start_time": "2024-10-28T15:19:58.151Z"
   },
   {
    "duration": 3,
    "start_time": "2024-10-28T15:19:58.155Z"
   },
   {
    "duration": 2,
    "start_time": "2024-10-28T15:19:58.160Z"
   },
   {
    "duration": 2,
    "start_time": "2024-10-28T15:19:58.164Z"
   },
   {
    "duration": 3,
    "start_time": "2024-10-28T15:19:58.167Z"
   },
   {
    "duration": 3,
    "start_time": "2024-10-28T15:19:58.171Z"
   },
   {
    "duration": 3,
    "start_time": "2024-10-28T15:19:58.176Z"
   },
   {
    "duration": 3,
    "start_time": "2024-10-28T15:19:58.180Z"
   },
   {
    "duration": 3,
    "start_time": "2024-10-28T15:19:58.184Z"
   },
   {
    "duration": 3,
    "start_time": "2024-10-28T15:19:58.188Z"
   },
   {
    "duration": 2,
    "start_time": "2024-10-28T15:19:58.232Z"
   },
   {
    "duration": 123,
    "start_time": "2024-10-28T15:24:59.252Z"
   },
   {
    "duration": 31,
    "start_time": "2024-10-28T15:25:00.119Z"
   },
   {
    "duration": 6,
    "start_time": "2024-10-28T15:25:00.597Z"
   },
   {
    "duration": 6,
    "start_time": "2024-10-28T15:25:00.862Z"
   },
   {
    "duration": 760,
    "start_time": "2024-10-28T15:25:01.278Z"
   },
   {
    "duration": 287,
    "start_time": "2024-10-28T15:25:07.801Z"
   },
   {
    "duration": 3,
    "start_time": "2024-10-28T15:25:08.090Z"
   },
   {
    "duration": 134,
    "start_time": "2024-10-28T15:25:08.095Z"
   },
   {
    "duration": 38,
    "start_time": "2024-10-28T15:25:08.231Z"
   },
   {
    "duration": 6,
    "start_time": "2024-10-28T15:25:08.272Z"
   },
   {
    "duration": 4,
    "start_time": "2024-10-28T15:25:08.280Z"
   },
   {
    "duration": 730,
    "start_time": "2024-10-28T15:25:08.286Z"
   },
   {
    "duration": 2,
    "start_time": "2024-10-28T15:25:09.017Z"
   },
   {
    "duration": 11,
    "start_time": "2024-10-28T15:25:09.021Z"
   },
   {
    "duration": 2,
    "start_time": "2024-10-28T15:25:09.034Z"
   },
   {
    "duration": 2,
    "start_time": "2024-10-28T15:25:09.038Z"
   },
   {
    "duration": 2,
    "start_time": "2024-10-28T15:25:09.042Z"
   },
   {
    "duration": 2,
    "start_time": "2024-10-28T15:25:09.046Z"
   },
   {
    "duration": 2,
    "start_time": "2024-10-28T15:25:09.051Z"
   },
   {
    "duration": 3,
    "start_time": "2024-10-28T15:25:09.054Z"
   },
   {
    "duration": 3,
    "start_time": "2024-10-28T15:25:09.058Z"
   },
   {
    "duration": 2,
    "start_time": "2024-10-28T15:25:09.062Z"
   },
   {
    "duration": 2,
    "start_time": "2024-10-28T15:25:09.066Z"
   },
   {
    "duration": 2,
    "start_time": "2024-10-28T15:25:09.070Z"
   },
   {
    "duration": 3,
    "start_time": "2024-10-28T15:25:09.073Z"
   },
   {
    "duration": 2,
    "start_time": "2024-10-28T15:25:09.078Z"
   },
   {
    "duration": 51,
    "start_time": "2024-10-28T15:25:09.082Z"
   },
   {
    "duration": 3,
    "start_time": "2024-10-28T15:25:09.135Z"
   },
   {
    "duration": 2,
    "start_time": "2024-10-28T15:25:09.139Z"
   },
   {
    "duration": 2,
    "start_time": "2024-10-28T15:25:09.143Z"
   },
   {
    "duration": 3,
    "start_time": "2024-10-28T15:25:09.146Z"
   },
   {
    "duration": 3,
    "start_time": "2024-10-28T15:25:09.151Z"
   },
   {
    "duration": 711,
    "start_time": "2024-10-28T15:26:09.538Z"
   },
   {
    "duration": 723,
    "start_time": "2024-10-28T15:26:23.821Z"
   },
   {
    "duration": 195,
    "start_time": "2024-10-28T15:26:59.624Z"
   },
   {
    "duration": 7,
    "start_time": "2024-10-28T15:27:03.431Z"
   },
   {
    "duration": 6,
    "start_time": "2024-10-28T15:27:11.480Z"
   },
   {
    "duration": 131,
    "start_time": "2024-10-28T15:27:47.586Z"
   },
   {
    "duration": 44,
    "start_time": "2024-10-28T15:27:49.626Z"
   },
   {
    "duration": 35,
    "start_time": "2024-10-28T15:27:52.874Z"
   },
   {
    "duration": 141,
    "start_time": "2024-10-28T15:28:13.174Z"
   },
   {
    "duration": 305,
    "start_time": "2024-10-28T15:28:18.192Z"
   },
   {
    "duration": 3,
    "start_time": "2024-10-28T15:28:18.499Z"
   },
   {
    "duration": 139,
    "start_time": "2024-10-28T15:28:18.503Z"
   },
   {
    "duration": 43,
    "start_time": "2024-10-28T15:28:18.644Z"
   },
   {
    "duration": 7,
    "start_time": "2024-10-28T15:28:18.689Z"
   },
   {
    "duration": 7,
    "start_time": "2024-10-28T15:28:18.698Z"
   },
   {
    "duration": 740,
    "start_time": "2024-10-28T15:28:18.707Z"
   },
   {
    "duration": 3,
    "start_time": "2024-10-28T15:28:19.448Z"
   },
   {
    "duration": 2,
    "start_time": "2024-10-28T15:28:19.452Z"
   },
   {
    "duration": 1,
    "start_time": "2024-10-28T15:28:19.459Z"
   },
   {
    "duration": 3,
    "start_time": "2024-10-28T15:28:19.462Z"
   },
   {
    "duration": 2,
    "start_time": "2024-10-28T15:28:19.466Z"
   },
   {
    "duration": 3,
    "start_time": "2024-10-28T15:28:19.470Z"
   },
   {
    "duration": 3,
    "start_time": "2024-10-28T15:28:19.474Z"
   },
   {
    "duration": 3,
    "start_time": "2024-10-28T15:28:19.478Z"
   },
   {
    "duration": 3,
    "start_time": "2024-10-28T15:28:19.482Z"
   },
   {
    "duration": 3,
    "start_time": "2024-10-28T15:28:19.486Z"
   },
   {
    "duration": 3,
    "start_time": "2024-10-28T15:28:19.531Z"
   },
   {
    "duration": 2,
    "start_time": "2024-10-28T15:28:19.536Z"
   },
   {
    "duration": 3,
    "start_time": "2024-10-28T15:28:19.539Z"
   },
   {
    "duration": 2,
    "start_time": "2024-10-28T15:28:19.544Z"
   },
   {
    "duration": 2,
    "start_time": "2024-10-28T15:28:19.548Z"
   },
   {
    "duration": 2,
    "start_time": "2024-10-28T15:28:19.552Z"
   },
   {
    "duration": 3,
    "start_time": "2024-10-28T15:28:19.555Z"
   },
   {
    "duration": 2,
    "start_time": "2024-10-28T15:28:19.560Z"
   },
   {
    "duration": 3,
    "start_time": "2024-10-28T15:28:19.563Z"
   },
   {
    "duration": 2,
    "start_time": "2024-10-28T15:28:19.570Z"
   },
   {
    "duration": 157,
    "start_time": "2024-10-28T18:16:08.660Z"
   },
   {
    "duration": 304,
    "start_time": "2024-10-28T18:16:22.327Z"
   },
   {
    "duration": 2,
    "start_time": "2024-10-28T18:16:22.633Z"
   },
   {
    "duration": 155,
    "start_time": "2024-10-28T18:16:22.637Z"
   },
   {
    "duration": 55,
    "start_time": "2024-10-28T18:16:22.794Z"
   },
   {
    "duration": 8,
    "start_time": "2024-10-28T18:16:22.852Z"
   },
   {
    "duration": 6,
    "start_time": "2024-10-28T18:16:22.863Z"
   },
   {
    "duration": 792,
    "start_time": "2024-10-28T18:16:22.871Z"
   },
   {
    "duration": 183,
    "start_time": "2024-10-28T18:16:23.665Z"
   },
   {
    "duration": 0,
    "start_time": "2024-10-28T18:16:23.850Z"
   },
   {
    "duration": 0,
    "start_time": "2024-10-28T18:16:23.851Z"
   },
   {
    "duration": 0,
    "start_time": "2024-10-28T18:16:23.853Z"
   },
   {
    "duration": 0,
    "start_time": "2024-10-28T18:16:23.854Z"
   },
   {
    "duration": 0,
    "start_time": "2024-10-28T18:16:23.855Z"
   },
   {
    "duration": 0,
    "start_time": "2024-10-28T18:16:23.856Z"
   },
   {
    "duration": 0,
    "start_time": "2024-10-28T18:16:23.857Z"
   },
   {
    "duration": 0,
    "start_time": "2024-10-28T18:16:23.858Z"
   },
   {
    "duration": 0,
    "start_time": "2024-10-28T18:16:23.858Z"
   },
   {
    "duration": 0,
    "start_time": "2024-10-28T18:16:23.860Z"
   },
   {
    "duration": 0,
    "start_time": "2024-10-28T18:16:23.864Z"
   },
   {
    "duration": 0,
    "start_time": "2024-10-28T18:16:23.865Z"
   },
   {
    "duration": 0,
    "start_time": "2024-10-28T18:16:23.866Z"
   },
   {
    "duration": 0,
    "start_time": "2024-10-28T18:16:23.867Z"
   },
   {
    "duration": 0,
    "start_time": "2024-10-28T18:16:23.868Z"
   },
   {
    "duration": 0,
    "start_time": "2024-10-28T18:16:23.870Z"
   },
   {
    "duration": 0,
    "start_time": "2024-10-28T18:16:23.871Z"
   },
   {
    "duration": 0,
    "start_time": "2024-10-28T18:16:23.872Z"
   },
   {
    "duration": 0,
    "start_time": "2024-10-28T18:16:23.873Z"
   },
   {
    "duration": 308,
    "start_time": "2024-10-28T18:16:38.833Z"
   },
   {
    "duration": 2,
    "start_time": "2024-10-28T18:16:39.143Z"
   },
   {
    "duration": 319,
    "start_time": "2024-10-28T18:16:39.147Z"
   },
   {
    "duration": 0,
    "start_time": "2024-10-28T18:16:39.470Z"
   },
   {
    "duration": 0,
    "start_time": "2024-10-28T18:16:39.471Z"
   },
   {
    "duration": 0,
    "start_time": "2024-10-28T18:16:39.472Z"
   },
   {
    "duration": 0,
    "start_time": "2024-10-28T18:16:39.474Z"
   },
   {
    "duration": 0,
    "start_time": "2024-10-28T18:16:39.475Z"
   },
   {
    "duration": 0,
    "start_time": "2024-10-28T18:16:39.476Z"
   },
   {
    "duration": 0,
    "start_time": "2024-10-28T18:16:39.477Z"
   },
   {
    "duration": 0,
    "start_time": "2024-10-28T18:16:39.479Z"
   },
   {
    "duration": 0,
    "start_time": "2024-10-28T18:16:39.481Z"
   },
   {
    "duration": 0,
    "start_time": "2024-10-28T18:16:39.482Z"
   },
   {
    "duration": 0,
    "start_time": "2024-10-28T18:16:39.483Z"
   },
   {
    "duration": 0,
    "start_time": "2024-10-28T18:16:39.484Z"
   },
   {
    "duration": 0,
    "start_time": "2024-10-28T18:16:39.485Z"
   },
   {
    "duration": 0,
    "start_time": "2024-10-28T18:16:39.486Z"
   },
   {
    "duration": 0,
    "start_time": "2024-10-28T18:16:39.487Z"
   },
   {
    "duration": 0,
    "start_time": "2024-10-28T18:16:39.488Z"
   },
   {
    "duration": 0,
    "start_time": "2024-10-28T18:16:39.489Z"
   },
   {
    "duration": 0,
    "start_time": "2024-10-28T18:16:39.490Z"
   },
   {
    "duration": 0,
    "start_time": "2024-10-28T18:16:39.490Z"
   },
   {
    "duration": 0,
    "start_time": "2024-10-28T18:16:39.491Z"
   },
   {
    "duration": 0,
    "start_time": "2024-10-28T18:16:39.492Z"
   },
   {
    "duration": 0,
    "start_time": "2024-10-28T18:16:39.524Z"
   },
   {
    "duration": 0,
    "start_time": "2024-10-28T18:16:39.526Z"
   },
   {
    "duration": 0,
    "start_time": "2024-10-28T18:16:39.527Z"
   },
   {
    "duration": 91,
    "start_time": "2024-10-28T18:16:42.650Z"
   },
   {
    "duration": 9,
    "start_time": "2024-10-28T18:16:51.289Z"
   },
   {
    "duration": 98,
    "start_time": "2024-10-28T18:17:29.815Z"
   },
   {
    "duration": 6,
    "start_time": "2024-10-28T18:17:39.660Z"
   },
   {
    "duration": 94,
    "start_time": "2024-10-28T18:17:58.907Z"
   },
   {
    "duration": 155,
    "start_time": "2024-10-28T18:18:14.181Z"
   },
   {
    "duration": 90,
    "start_time": "2024-10-28T18:18:15.421Z"
   },
   {
    "duration": 4,
    "start_time": "2024-10-28T18:18:29.062Z"
   },
   {
    "duration": 28,
    "start_time": "2024-10-28T18:18:41.868Z"
   },
   {
    "duration": 13,
    "start_time": "2024-10-28T18:20:14.495Z"
   },
   {
    "duration": 305,
    "start_time": "2024-10-28T18:20:25.426Z"
   },
   {
    "duration": 3,
    "start_time": "2024-10-28T18:20:25.733Z"
   },
   {
    "duration": 306,
    "start_time": "2024-10-28T18:20:25.737Z"
   },
   {
    "duration": 0,
    "start_time": "2024-10-28T18:20:26.045Z"
   },
   {
    "duration": 0,
    "start_time": "2024-10-28T18:20:26.046Z"
   },
   {
    "duration": 0,
    "start_time": "2024-10-28T18:20:26.047Z"
   },
   {
    "duration": 0,
    "start_time": "2024-10-28T18:20:26.049Z"
   },
   {
    "duration": 0,
    "start_time": "2024-10-28T18:20:26.050Z"
   },
   {
    "duration": 0,
    "start_time": "2024-10-28T18:20:26.051Z"
   },
   {
    "duration": 0,
    "start_time": "2024-10-28T18:20:26.052Z"
   },
   {
    "duration": 0,
    "start_time": "2024-10-28T18:20:26.053Z"
   },
   {
    "duration": 0,
    "start_time": "2024-10-28T18:20:26.054Z"
   },
   {
    "duration": 0,
    "start_time": "2024-10-28T18:20:26.055Z"
   },
   {
    "duration": 0,
    "start_time": "2024-10-28T18:20:26.056Z"
   },
   {
    "duration": 0,
    "start_time": "2024-10-28T18:20:26.057Z"
   },
   {
    "duration": 0,
    "start_time": "2024-10-28T18:20:26.058Z"
   },
   {
    "duration": 0,
    "start_time": "2024-10-28T18:20:26.059Z"
   },
   {
    "duration": 0,
    "start_time": "2024-10-28T18:20:26.060Z"
   },
   {
    "duration": 0,
    "start_time": "2024-10-28T18:20:26.061Z"
   },
   {
    "duration": 1,
    "start_time": "2024-10-28T18:20:26.062Z"
   },
   {
    "duration": 0,
    "start_time": "2024-10-28T18:20:26.063Z"
   },
   {
    "duration": 0,
    "start_time": "2024-10-28T18:20:26.065Z"
   },
   {
    "duration": 0,
    "start_time": "2024-10-28T18:20:26.066Z"
   },
   {
    "duration": 0,
    "start_time": "2024-10-28T18:20:26.068Z"
   },
   {
    "duration": 0,
    "start_time": "2024-10-28T18:20:26.069Z"
   },
   {
    "duration": 0,
    "start_time": "2024-10-28T18:20:26.071Z"
   },
   {
    "duration": 0,
    "start_time": "2024-10-28T18:20:26.072Z"
   },
   {
    "duration": 122,
    "start_time": "2024-10-28T18:20:33.597Z"
   },
   {
    "duration": 32,
    "start_time": "2024-10-28T18:20:36.237Z"
   },
   {
    "duration": 7,
    "start_time": "2024-10-28T18:20:38.069Z"
   },
   {
    "duration": 7,
    "start_time": "2024-10-28T18:20:39.721Z"
   },
   {
    "duration": 718,
    "start_time": "2024-10-28T18:20:41.048Z"
   },
   {
    "duration": 109,
    "start_time": "2024-10-28T18:21:26.180Z"
   },
   {
    "duration": 104,
    "start_time": "2024-10-28T18:21:34.918Z"
   },
   {
    "duration": 110,
    "start_time": "2024-10-28T18:21:37.343Z"
   },
   {
    "duration": 38,
    "start_time": "2024-10-28T18:21:50.554Z"
   },
   {
    "duration": 11,
    "start_time": "2024-10-28T18:22:01.692Z"
   },
   {
    "duration": 11,
    "start_time": "2024-10-28T18:22:11.240Z"
   },
   {
    "duration": 733,
    "start_time": "2024-10-28T18:22:22.121Z"
   },
   {
    "duration": 13,
    "start_time": "2024-10-28T18:22:38.013Z"
   },
   {
    "duration": 4,
    "start_time": "2024-10-28T18:22:44.743Z"
   },
   {
    "duration": 19,
    "start_time": "2024-10-28T18:22:51.595Z"
   },
   {
    "duration": 9,
    "start_time": "2024-10-28T18:23:00.256Z"
   },
   {
    "duration": 15,
    "start_time": "2024-10-28T18:23:44.356Z"
   },
   {
    "duration": 4,
    "start_time": "2024-10-28T18:24:08.258Z"
   },
   {
    "duration": 12,
    "start_time": "2024-10-28T18:24:35.050Z"
   },
   {
    "duration": 3,
    "start_time": "2024-10-28T18:25:02.325Z"
   },
   {
    "duration": 4,
    "start_time": "2024-10-28T18:25:09.923Z"
   },
   {
    "duration": 753,
    "start_time": "2024-10-28T18:26:05.463Z"
   },
   {
    "duration": 741,
    "start_time": "2024-10-28T18:26:14.203Z"
   },
   {
    "duration": 71,
    "start_time": "2024-10-28T18:30:14.800Z"
   },
   {
    "duration": 14,
    "start_time": "2024-10-28T18:30:16.216Z"
   },
   {
    "duration": 83,
    "start_time": "2024-10-28T18:30:18.024Z"
   },
   {
    "duration": 70,
    "start_time": "2024-10-28T18:30:18.938Z"
   },
   {
    "duration": 23,
    "start_time": "2024-10-28T18:30:20.559Z"
   },
   {
    "duration": 277,
    "start_time": "2024-10-28T18:30:26.588Z"
   },
   {
    "duration": 3,
    "start_time": "2024-10-28T18:30:26.867Z"
   },
   {
    "duration": 142,
    "start_time": "2024-10-28T18:30:26.871Z"
   },
   {
    "duration": 43,
    "start_time": "2024-10-28T18:30:27.023Z"
   },
   {
    "duration": 11,
    "start_time": "2024-10-28T18:30:27.067Z"
   },
   {
    "duration": 11,
    "start_time": "2024-10-28T18:30:27.079Z"
   },
   {
    "duration": 840,
    "start_time": "2024-10-28T18:30:27.092Z"
   },
   {
    "duration": 101,
    "start_time": "2024-10-28T18:30:27.935Z"
   },
   {
    "duration": 9,
    "start_time": "2024-10-28T18:30:28.038Z"
   },
   {
    "duration": 118,
    "start_time": "2024-10-28T18:30:28.051Z"
   },
   {
    "duration": 114,
    "start_time": "2024-10-28T18:30:28.171Z"
   },
   {
    "duration": 44,
    "start_time": "2024-10-28T18:30:28.287Z"
   },
   {
    "duration": 17,
    "start_time": "2024-10-28T18:30:28.333Z"
   },
   {
    "duration": 7,
    "start_time": "2024-10-28T18:30:28.352Z"
   },
   {
    "duration": 24,
    "start_time": "2024-10-28T18:30:28.361Z"
   },
   {
    "duration": 8,
    "start_time": "2024-10-28T18:30:28.387Z"
   },
   {
    "duration": 28,
    "start_time": "2024-10-28T18:30:28.397Z"
   },
   {
    "duration": 6,
    "start_time": "2024-10-28T18:30:28.427Z"
   },
   {
    "duration": 808,
    "start_time": "2024-10-28T18:30:28.435Z"
   },
   {
    "duration": 3,
    "start_time": "2024-10-28T18:30:29.245Z"
   },
   {
    "duration": 8,
    "start_time": "2024-10-28T18:30:29.251Z"
   },
   {
    "duration": 2,
    "start_time": "2024-10-28T18:30:29.260Z"
   },
   {
    "duration": 2,
    "start_time": "2024-10-28T18:30:29.264Z"
   },
   {
    "duration": 2,
    "start_time": "2024-10-28T18:30:29.268Z"
   },
   {
    "duration": 2,
    "start_time": "2024-10-28T18:30:29.272Z"
   },
   {
    "duration": 3,
    "start_time": "2024-10-28T18:30:29.275Z"
   },
   {
    "duration": 3,
    "start_time": "2024-10-28T18:30:29.279Z"
   },
   {
    "duration": 2,
    "start_time": "2024-10-28T18:30:29.285Z"
   },
   {
    "duration": 39,
    "start_time": "2024-10-28T18:30:29.288Z"
   },
   {
    "duration": 685,
    "start_time": "2024-10-28T18:34:33.833Z"
   },
   {
    "duration": 1284,
    "start_time": "2024-10-28T18:36:48.339Z"
   },
   {
    "duration": 1496,
    "start_time": "2024-10-28T18:40:45.836Z"
   },
   {
    "duration": 1515,
    "start_time": "2024-10-28T18:42:11.247Z"
   },
   {
    "duration": 2309,
    "start_time": "2024-10-28T18:42:36.653Z"
   },
   {
    "duration": 173,
    "start_time": "2024-10-28T18:55:29.979Z"
   },
   {
    "duration": 7,
    "start_time": "2024-10-28T18:55:35.852Z"
   },
   {
    "duration": 17,
    "start_time": "2024-10-28T18:56:20.781Z"
   },
   {
    "duration": 8,
    "start_time": "2024-10-28T18:56:23.738Z"
   },
   {
    "duration": 8,
    "start_time": "2024-10-28T18:56:37.148Z"
   },
   {
    "duration": 6,
    "start_time": "2024-10-28T18:58:16.510Z"
   },
   {
    "duration": 8,
    "start_time": "2024-10-28T18:59:02.269Z"
   },
   {
    "duration": 9,
    "start_time": "2024-10-28T18:59:22.811Z"
   },
   {
    "duration": 3,
    "start_time": "2024-10-28T19:03:43.602Z"
   },
   {
    "duration": 10,
    "start_time": "2024-10-28T19:04:02.002Z"
   },
   {
    "duration": 298,
    "start_time": "2024-10-28T19:04:12.964Z"
   },
   {
    "duration": 3,
    "start_time": "2024-10-28T19:04:13.264Z"
   },
   {
    "duration": 147,
    "start_time": "2024-10-28T19:04:13.268Z"
   },
   {
    "duration": 48,
    "start_time": "2024-10-28T19:04:13.418Z"
   },
   {
    "duration": 11,
    "start_time": "2024-10-28T19:04:13.468Z"
   },
   {
    "duration": 11,
    "start_time": "2024-10-28T19:04:13.481Z"
   },
   {
    "duration": 750,
    "start_time": "2024-10-28T19:04:13.493Z"
   },
   {
    "duration": 89,
    "start_time": "2024-10-28T19:04:14.245Z"
   },
   {
    "duration": 9,
    "start_time": "2024-10-28T19:04:14.336Z"
   },
   {
    "duration": 102,
    "start_time": "2024-10-28T19:04:14.348Z"
   },
   {
    "duration": 90,
    "start_time": "2024-10-28T19:04:14.452Z"
   },
   {
    "duration": 30,
    "start_time": "2024-10-28T19:04:14.544Z"
   },
   {
    "duration": 13,
    "start_time": "2024-10-28T19:04:14.575Z"
   },
   {
    "duration": 3,
    "start_time": "2024-10-28T19:04:14.589Z"
   },
   {
    "duration": 44,
    "start_time": "2024-10-28T19:04:14.594Z"
   },
   {
    "duration": 7,
    "start_time": "2024-10-28T19:04:14.640Z"
   },
   {
    "duration": 4,
    "start_time": "2024-10-28T19:04:14.649Z"
   },
   {
    "duration": 4,
    "start_time": "2024-10-28T19:04:14.655Z"
   },
   {
    "duration": 771,
    "start_time": "2024-10-28T19:04:14.660Z"
   },
   {
    "duration": 2286,
    "start_time": "2024-10-28T19:04:15.434Z"
   },
   {
    "duration": 8,
    "start_time": "2024-10-28T19:04:17.725Z"
   },
   {
    "duration": 9,
    "start_time": "2024-10-28T19:04:17.735Z"
   },
   {
    "duration": 3,
    "start_time": "2024-10-28T19:04:17.747Z"
   },
   {
    "duration": 2,
    "start_time": "2024-10-28T19:04:17.752Z"
   },
   {
    "duration": 3,
    "start_time": "2024-10-28T19:04:17.756Z"
   },
   {
    "duration": 3,
    "start_time": "2024-10-28T19:04:17.760Z"
   },
   {
    "duration": 3,
    "start_time": "2024-10-28T19:04:17.764Z"
   },
   {
    "duration": 3,
    "start_time": "2024-10-28T19:04:17.770Z"
   },
   {
    "duration": 3,
    "start_time": "2024-10-28T19:04:17.774Z"
   },
   {
    "duration": 178,
    "start_time": "2024-10-28T19:04:45.338Z"
   },
   {
    "duration": 6,
    "start_time": "2024-10-28T19:04:48.245Z"
   },
   {
    "duration": 5,
    "start_time": "2024-10-28T19:04:51.154Z"
   },
   {
    "duration": 5,
    "start_time": "2024-10-28T19:05:44.885Z"
   },
   {
    "duration": 5,
    "start_time": "2024-10-28T19:06:03.078Z"
   },
   {
    "duration": 5,
    "start_time": "2024-10-28T19:06:08.052Z"
   },
   {
    "duration": 14,
    "start_time": "2024-10-28T19:06:23.191Z"
   },
   {
    "duration": 284,
    "start_time": "2024-10-28T19:06:35.104Z"
   },
   {
    "duration": 3,
    "start_time": "2024-10-28T19:06:35.390Z"
   },
   {
    "duration": 143,
    "start_time": "2024-10-28T19:06:35.394Z"
   },
   {
    "duration": 42,
    "start_time": "2024-10-28T19:06:35.539Z"
   },
   {
    "duration": 11,
    "start_time": "2024-10-28T19:06:35.584Z"
   },
   {
    "duration": 12,
    "start_time": "2024-10-28T19:06:35.596Z"
   },
   {
    "duration": 738,
    "start_time": "2024-10-28T19:06:35.625Z"
   },
   {
    "duration": 98,
    "start_time": "2024-10-28T19:06:36.365Z"
   },
   {
    "duration": 8,
    "start_time": "2024-10-28T19:06:36.465Z"
   },
   {
    "duration": 105,
    "start_time": "2024-10-28T19:06:36.475Z"
   },
   {
    "duration": 87,
    "start_time": "2024-10-28T19:06:36.582Z"
   },
   {
    "duration": 25,
    "start_time": "2024-10-28T19:06:36.671Z"
   },
   {
    "duration": 26,
    "start_time": "2024-10-28T19:06:36.698Z"
   },
   {
    "duration": 3,
    "start_time": "2024-10-28T19:06:36.727Z"
   },
   {
    "duration": 18,
    "start_time": "2024-10-28T19:06:36.732Z"
   },
   {
    "duration": 6,
    "start_time": "2024-10-28T19:06:36.752Z"
   },
   {
    "duration": 3,
    "start_time": "2024-10-28T19:06:36.760Z"
   },
   {
    "duration": 3,
    "start_time": "2024-10-28T19:06:36.765Z"
   },
   {
    "duration": 804,
    "start_time": "2024-10-28T19:06:36.769Z"
   },
   {
    "duration": 2243,
    "start_time": "2024-10-28T19:06:37.575Z"
   },
   {
    "duration": 7,
    "start_time": "2024-10-28T19:06:39.823Z"
   },
   {
    "duration": 7,
    "start_time": "2024-10-28T19:06:39.832Z"
   },
   {
    "duration": 5,
    "start_time": "2024-10-28T19:06:39.840Z"
   },
   {
    "duration": 2,
    "start_time": "2024-10-28T19:06:39.847Z"
   },
   {
    "duration": 3,
    "start_time": "2024-10-28T19:06:39.850Z"
   },
   {
    "duration": 2,
    "start_time": "2024-10-28T19:06:39.855Z"
   },
   {
    "duration": 2,
    "start_time": "2024-10-28T19:06:39.859Z"
   },
   {
    "duration": 4,
    "start_time": "2024-10-28T19:06:39.862Z"
   },
   {
    "duration": 3,
    "start_time": "2024-10-28T19:06:39.868Z"
   },
   {
    "duration": 198,
    "start_time": "2024-10-28T19:07:51.991Z"
   },
   {
    "duration": 8,
    "start_time": "2024-10-28T19:07:57.999Z"
   },
   {
    "duration": 315,
    "start_time": "2024-10-28T19:10:39.635Z"
   },
   {
    "duration": 40,
    "start_time": "2024-10-28T19:10:54.329Z"
   },
   {
    "duration": 38,
    "start_time": "2024-10-28T19:11:37.755Z"
   },
   {
    "duration": 239,
    "start_time": "2024-10-28T19:13:22.133Z"
   },
   {
    "duration": 39,
    "start_time": "2024-10-28T19:14:01.645Z"
   },
   {
    "duration": 3,
    "start_time": "2024-10-28T19:14:31.730Z"
   },
   {
    "duration": 5,
    "start_time": "2024-10-28T19:15:14.757Z"
   },
   {
    "duration": 8,
    "start_time": "2024-10-28T19:15:44.938Z"
   },
   {
    "duration": 26,
    "start_time": "2024-10-28T19:16:26.929Z"
   },
   {
    "duration": 10,
    "start_time": "2024-10-28T19:16:35.624Z"
   },
   {
    "duration": 8,
    "start_time": "2024-10-28T19:16:43.909Z"
   },
   {
    "duration": 285,
    "start_time": "2024-10-28T19:17:07.109Z"
   },
   {
    "duration": 2,
    "start_time": "2024-10-28T19:17:07.397Z"
   },
   {
    "duration": 205,
    "start_time": "2024-10-28T19:17:07.401Z"
   },
   {
    "duration": 48,
    "start_time": "2024-10-28T19:17:07.609Z"
   },
   {
    "duration": 12,
    "start_time": "2024-10-28T19:17:07.659Z"
   },
   {
    "duration": 14,
    "start_time": "2024-10-28T19:17:07.673Z"
   },
   {
    "duration": 769,
    "start_time": "2024-10-28T19:17:07.688Z"
   },
   {
    "duration": 120,
    "start_time": "2024-10-28T19:17:08.460Z"
   },
   {
    "duration": 11,
    "start_time": "2024-10-28T19:17:08.582Z"
   },
   {
    "duration": 113,
    "start_time": "2024-10-28T19:17:08.597Z"
   },
   {
    "duration": 90,
    "start_time": "2024-10-28T19:17:08.712Z"
   },
   {
    "duration": 38,
    "start_time": "2024-10-28T19:17:08.804Z"
   },
   {
    "duration": 16,
    "start_time": "2024-10-28T19:17:08.844Z"
   },
   {
    "duration": 4,
    "start_time": "2024-10-28T19:17:08.861Z"
   },
   {
    "duration": 21,
    "start_time": "2024-10-28T19:17:08.867Z"
   },
   {
    "duration": 8,
    "start_time": "2024-10-28T19:17:08.889Z"
   },
   {
    "duration": 4,
    "start_time": "2024-10-28T19:17:08.923Z"
   },
   {
    "duration": 4,
    "start_time": "2024-10-28T19:17:08.932Z"
   },
   {
    "duration": 840,
    "start_time": "2024-10-28T19:17:08.938Z"
   },
   {
    "duration": 2558,
    "start_time": "2024-10-28T19:17:09.780Z"
   },
   {
    "duration": 9,
    "start_time": "2024-10-28T19:17:12.341Z"
   },
   {
    "duration": 9,
    "start_time": "2024-10-28T19:17:12.352Z"
   },
   {
    "duration": 9,
    "start_time": "2024-10-28T19:17:12.363Z"
   },
   {
    "duration": 10,
    "start_time": "2024-10-28T19:17:12.374Z"
   },
   {
    "duration": 2,
    "start_time": "2024-10-28T19:17:12.387Z"
   },
   {
    "duration": 34,
    "start_time": "2024-10-28T19:17:12.391Z"
   },
   {
    "duration": 2,
    "start_time": "2024-10-28T19:17:12.427Z"
   },
   {
    "duration": 2,
    "start_time": "2024-10-28T19:17:12.434Z"
   },
   {
    "duration": 2,
    "start_time": "2024-10-28T19:17:12.438Z"
   },
   {
    "duration": 10,
    "start_time": "2024-10-28T19:17:29.855Z"
   },
   {
    "duration": 12,
    "start_time": "2024-10-28T19:21:49.180Z"
   },
   {
    "duration": 16,
    "start_time": "2024-10-28T19:23:07.641Z"
   },
   {
    "duration": 500,
    "start_time": "2024-10-28T19:25:42.415Z"
   },
   {
    "duration": 17,
    "start_time": "2024-10-28T19:44:52.258Z"
   },
   {
    "duration": 6,
    "start_time": "2024-10-28T19:44:59.668Z"
   },
   {
    "duration": 7,
    "start_time": "2024-10-28T19:47:32.279Z"
   },
   {
    "duration": 7,
    "start_time": "2024-10-28T19:49:13.200Z"
   },
   {
    "duration": 8,
    "start_time": "2024-10-28T19:49:29.079Z"
   },
   {
    "duration": 177,
    "start_time": "2024-10-28T19:49:46.886Z"
   },
   {
    "duration": 440,
    "start_time": "2024-10-28T19:50:23.142Z"
   },
   {
    "duration": 9,
    "start_time": "2024-10-28T19:50:32.462Z"
   },
   {
    "duration": 10,
    "start_time": "2024-10-28T19:54:49.096Z"
   },
   {
    "duration": 9,
    "start_time": "2024-10-28T19:55:08.906Z"
   },
   {
    "duration": 7,
    "start_time": "2024-10-28T19:55:36.446Z"
   },
   {
    "duration": 5,
    "start_time": "2024-10-28T19:55:41.748Z"
   },
   {
    "duration": 9,
    "start_time": "2024-10-28T19:55:49.525Z"
   },
   {
    "duration": 5,
    "start_time": "2024-10-28T19:55:51.389Z"
   },
   {
    "duration": 275,
    "start_time": "2024-10-28T19:55:57.508Z"
   },
   {
    "duration": 3,
    "start_time": "2024-10-28T19:55:57.785Z"
   },
   {
    "duration": 152,
    "start_time": "2024-10-28T19:55:57.790Z"
   },
   {
    "duration": 43,
    "start_time": "2024-10-28T19:55:57.945Z"
   },
   {
    "duration": 11,
    "start_time": "2024-10-28T19:55:57.990Z"
   },
   {
    "duration": 24,
    "start_time": "2024-10-28T19:55:58.003Z"
   },
   {
    "duration": 754,
    "start_time": "2024-10-28T19:55:58.031Z"
   },
   {
    "duration": 91,
    "start_time": "2024-10-28T19:55:58.787Z"
   },
   {
    "duration": 9,
    "start_time": "2024-10-28T19:55:58.881Z"
   },
   {
    "duration": 107,
    "start_time": "2024-10-28T19:55:58.893Z"
   },
   {
    "duration": 92,
    "start_time": "2024-10-28T19:55:59.002Z"
   },
   {
    "duration": 32,
    "start_time": "2024-10-28T19:55:59.096Z"
   },
   {
    "duration": 12,
    "start_time": "2024-10-28T19:55:59.130Z"
   },
   {
    "duration": 3,
    "start_time": "2024-10-28T19:55:59.143Z"
   },
   {
    "duration": 17,
    "start_time": "2024-10-28T19:55:59.148Z"
   },
   {
    "duration": 7,
    "start_time": "2024-10-28T19:55:59.168Z"
   },
   {
    "duration": 4,
    "start_time": "2024-10-28T19:55:59.177Z"
   },
   {
    "duration": 5,
    "start_time": "2024-10-28T19:55:59.182Z"
   },
   {
    "duration": 794,
    "start_time": "2024-10-28T19:55:59.223Z"
   },
   {
    "duration": 2314,
    "start_time": "2024-10-28T19:56:00.023Z"
   },
   {
    "duration": 9,
    "start_time": "2024-10-28T19:56:02.339Z"
   },
   {
    "duration": 8,
    "start_time": "2024-10-28T19:56:02.351Z"
   },
   {
    "duration": 8,
    "start_time": "2024-10-28T19:56:02.360Z"
   },
   {
    "duration": 8,
    "start_time": "2024-10-28T19:56:02.370Z"
   },
   {
    "duration": 44,
    "start_time": "2024-10-28T19:56:02.380Z"
   },
   {
    "duration": 499,
    "start_time": "2024-10-28T19:56:02.426Z"
   },
   {
    "duration": 15,
    "start_time": "2024-10-28T19:56:02.927Z"
   },
   {
    "duration": 5,
    "start_time": "2024-10-28T19:56:02.946Z"
   },
   {
    "duration": 2,
    "start_time": "2024-10-28T19:56:02.953Z"
   },
   {
    "duration": 4,
    "start_time": "2024-10-28T19:58:13.646Z"
   },
   {
    "duration": 4,
    "start_time": "2024-10-28T20:19:50.749Z"
   },
   {
    "duration": 5,
    "start_time": "2024-10-28T20:21:06.918Z"
   },
   {
    "duration": 184,
    "start_time": "2024-10-28T20:23:57.563Z"
   },
   {
    "duration": 5,
    "start_time": "2024-10-28T20:24:03.431Z"
   },
   {
    "duration": 21,
    "start_time": "2024-10-28T20:26:41.789Z"
   },
   {
    "duration": 17,
    "start_time": "2024-10-28T20:27:00.245Z"
   },
   {
    "duration": 17,
    "start_time": "2024-10-28T20:27:16.703Z"
   },
   {
    "duration": 27,
    "start_time": "2024-10-28T20:27:32.066Z"
   },
   {
    "duration": 18,
    "start_time": "2024-10-28T20:27:47.291Z"
   },
   {
    "duration": 28,
    "start_time": "2024-10-28T20:28:23.107Z"
   },
   {
    "duration": 20,
    "start_time": "2024-10-28T20:28:28.764Z"
   },
   {
    "duration": 12,
    "start_time": "2024-10-28T20:56:36.345Z"
   },
   {
    "duration": 3,
    "start_time": "2024-10-28T20:56:44.733Z"
   },
   {
    "duration": 5,
    "start_time": "2024-10-28T20:58:36.587Z"
   },
   {
    "duration": 5,
    "start_time": "2024-10-28T20:58:44.927Z"
   },
   {
    "duration": 5,
    "start_time": "2024-10-28T20:58:51.980Z"
   },
   {
    "duration": 12,
    "start_time": "2024-10-28T20:59:52.864Z"
   },
   {
    "duration": 18,
    "start_time": "2024-10-28T21:00:15.823Z"
   },
   {
    "duration": 5,
    "start_time": "2024-10-28T21:00:48.232Z"
   },
   {
    "duration": 5,
    "start_time": "2024-10-28T21:01:27.844Z"
   },
   {
    "duration": 15,
    "start_time": "2024-10-28T21:01:53.748Z"
   },
   {
    "duration": 7,
    "start_time": "2024-10-28T21:02:09.044Z"
   },
   {
    "duration": 1903,
    "start_time": "2024-10-28T21:08:15.076Z"
   },
   {
    "duration": 6,
    "start_time": "2024-10-28T21:08:27.483Z"
   },
   {
    "duration": 6,
    "start_time": "2024-10-28T21:08:35.611Z"
   },
   {
    "duration": 5,
    "start_time": "2024-10-28T21:08:48.436Z"
   },
   {
    "duration": 4,
    "start_time": "2024-10-28T21:12:06.022Z"
   },
   {
    "duration": 21,
    "start_time": "2024-10-28T21:12:21.429Z"
   },
   {
    "duration": 236,
    "start_time": "2024-10-28T21:13:20.903Z"
   },
   {
    "duration": 128,
    "start_time": "2024-10-28T21:14:31.322Z"
   },
   {
    "duration": 219,
    "start_time": "2024-10-28T21:19:37.527Z"
   },
   {
    "duration": 2,
    "start_time": "2024-10-28T21:29:59.898Z"
   },
   {
    "duration": 415,
    "start_time": "2024-10-28T21:42:00.887Z"
   },
   {
    "duration": 17,
    "start_time": "2024-10-28T21:42:16.436Z"
   },
   {
    "duration": 9,
    "start_time": "2024-10-28T21:42:23.180Z"
   },
   {
    "duration": 9,
    "start_time": "2024-10-28T21:42:30.826Z"
   },
   {
    "duration": 4,
    "start_time": "2024-10-28T21:46:15.984Z"
   },
   {
    "duration": 3,
    "start_time": "2024-10-28T21:46:22.395Z"
   },
   {
    "duration": 4,
    "start_time": "2024-10-28T21:46:44.191Z"
   },
   {
    "duration": 4,
    "start_time": "2024-10-28T21:46:52.209Z"
   },
   {
    "duration": 5,
    "start_time": "2024-10-28T21:47:22.599Z"
   },
   {
    "duration": 130,
    "start_time": "2024-10-28T21:47:33.313Z"
   },
   {
    "duration": 138,
    "start_time": "2024-10-28T21:48:07.590Z"
   },
   {
    "duration": 130,
    "start_time": "2024-10-28T21:48:35.864Z"
   },
   {
    "duration": 2,
    "start_time": "2024-10-28T21:54:54.333Z"
   },
   {
    "duration": 41,
    "start_time": "2024-10-28T21:56:21.054Z"
   },
   {
    "duration": 173,
    "start_time": "2024-10-28T21:57:49.092Z"
   },
   {
    "duration": 40,
    "start_time": "2024-10-28T22:00:40.405Z"
   },
   {
    "duration": 233,
    "start_time": "2024-10-28T22:03:29.970Z"
   },
   {
    "duration": 233,
    "start_time": "2024-10-28T22:03:39.093Z"
   },
   {
    "duration": 171,
    "start_time": "2024-10-28T22:04:54.254Z"
   },
   {
    "duration": 264,
    "start_time": "2024-10-28T22:05:04.496Z"
   },
   {
    "duration": 152,
    "start_time": "2024-10-28T22:05:10.419Z"
   },
   {
    "duration": 154,
    "start_time": "2024-10-28T22:05:16.328Z"
   },
   {
    "duration": 170,
    "start_time": "2024-10-28T22:05:22.013Z"
   },
   {
    "duration": 88,
    "start_time": "2024-10-28T22:15:01.168Z"
   },
   {
    "duration": 89,
    "start_time": "2024-10-28T22:19:20.191Z"
   },
   {
    "duration": 106,
    "start_time": "2024-10-28T22:21:29.985Z"
   },
   {
    "duration": 39,
    "start_time": "2024-10-28T22:21:41.402Z"
   },
   {
    "duration": 185,
    "start_time": "2024-10-28T22:23:25.172Z"
   },
   {
    "duration": 127,
    "start_time": "2024-10-28T22:23:33.751Z"
   },
   {
    "duration": 248,
    "start_time": "2024-10-28T22:23:46.181Z"
   },
   {
    "duration": 302,
    "start_time": "2024-10-29T16:57:36.970Z"
   },
   {
    "duration": 2,
    "start_time": "2024-10-29T16:57:37.274Z"
   },
   {
    "duration": 165,
    "start_time": "2024-10-29T16:57:37.278Z"
   },
   {
    "duration": 63,
    "start_time": "2024-10-29T16:57:37.446Z"
   },
   {
    "duration": 24,
    "start_time": "2024-10-29T16:57:37.511Z"
   },
   {
    "duration": 13,
    "start_time": "2024-10-29T16:57:37.539Z"
   },
   {
    "duration": 836,
    "start_time": "2024-10-29T16:57:37.553Z"
   },
   {
    "duration": 84,
    "start_time": "2024-10-29T16:57:38.390Z"
   },
   {
    "duration": 9,
    "start_time": "2024-10-29T16:57:38.477Z"
   },
   {
    "duration": 100,
    "start_time": "2024-10-29T16:57:38.489Z"
   },
   {
    "duration": 93,
    "start_time": "2024-10-29T16:57:38.590Z"
   },
   {
    "duration": 28,
    "start_time": "2024-10-29T16:57:38.685Z"
   },
   {
    "duration": 20,
    "start_time": "2024-10-29T16:57:38.715Z"
   },
   {
    "duration": 4,
    "start_time": "2024-10-29T16:57:38.736Z"
   },
   {
    "duration": 19,
    "start_time": "2024-10-29T16:57:38.742Z"
   },
   {
    "duration": 7,
    "start_time": "2024-10-29T16:57:38.763Z"
   },
   {
    "duration": 4,
    "start_time": "2024-10-29T16:57:38.772Z"
   },
   {
    "duration": 4,
    "start_time": "2024-10-29T16:57:38.778Z"
   },
   {
    "duration": 807,
    "start_time": "2024-10-29T16:57:38.784Z"
   },
   {
    "duration": 2199,
    "start_time": "2024-10-29T16:57:39.594Z"
   },
   {
    "duration": 8,
    "start_time": "2024-10-29T16:57:41.795Z"
   },
   {
    "duration": 7,
    "start_time": "2024-10-29T16:57:41.804Z"
   },
   {
    "duration": 7,
    "start_time": "2024-10-29T16:57:41.825Z"
   },
   {
    "duration": 7,
    "start_time": "2024-10-29T16:57:41.834Z"
   },
   {
    "duration": 14,
    "start_time": "2024-10-29T16:57:41.842Z"
   },
   {
    "duration": 523,
    "start_time": "2024-10-29T16:57:41.858Z"
   },
   {
    "duration": 14,
    "start_time": "2024-10-29T16:57:42.383Z"
   },
   {
    "duration": 4,
    "start_time": "2024-10-29T16:57:42.401Z"
   },
   {
    "duration": 25,
    "start_time": "2024-10-29T16:57:42.424Z"
   },
   {
    "duration": 6,
    "start_time": "2024-10-29T16:57:42.451Z"
   },
   {
    "duration": 2082,
    "start_time": "2024-10-29T16:57:42.459Z"
   },
   {
    "duration": 135,
    "start_time": "2024-10-29T16:57:44.543Z"
   },
   {
    "duration": 218,
    "start_time": "2024-10-29T16:57:44.679Z"
   },
   {
    "duration": 177,
    "start_time": "2024-10-29T16:57:44.899Z"
   },
   {
    "duration": 135,
    "start_time": "2024-10-29T16:57:45.078Z"
   },
   {
    "duration": 180,
    "start_time": "2024-10-29T16:57:45.215Z"
   },
   {
    "duration": 96,
    "start_time": "2024-10-29T16:57:45.396Z"
   },
   {
    "duration": 157,
    "start_time": "2024-10-29T16:57:45.494Z"
   },
   {
    "duration": 39,
    "start_time": "2024-10-29T16:57:45.653Z"
   }
  ],
  "kernelspec": {
   "display_name": "Python 3 (ipykernel)",
   "language": "python",
   "name": "python3"
  },
  "language_info": {
   "codemirror_mode": {
    "name": "ipython",
    "version": 3
   },
   "file_extension": ".py",
   "mimetype": "text/x-python",
   "name": "python",
   "nbconvert_exporter": "python",
   "pygments_lexer": "ipython3",
   "version": "3.9.19"
  },
  "toc": {
   "base_numbering": 1,
   "nav_menu": {},
   "number_sections": true,
   "sideBar": true,
   "skip_h1_title": true,
   "title_cell": "Table of Contents",
   "title_sidebar": "Contents",
   "toc_cell": false,
   "toc_position": {},
   "toc_section_display": true,
   "toc_window_display": false
  },
  "vscode": {
   "interpreter": {
    "hash": "01a7be9ec63e704a62cefc5fe7a4756944464ee731be31632bdf42a4cb4688cf"
   }
  }
 },
 "nbformat": 4,
 "nbformat_minor": 5
}
